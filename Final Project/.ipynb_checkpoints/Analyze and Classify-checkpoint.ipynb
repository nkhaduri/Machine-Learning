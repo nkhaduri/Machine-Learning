{
 "cells": [
  {
   "cell_type": "markdown",
   "metadata": {},
   "source": [
    "## Diamonds Dataset\n",
    "This is a dataset which contains the prices and other attributes of almost 54,000 diamonds.\n",
    "I'm going to analyze these features, find correlations between them and visualize them. \n",
    "Also split it into train/cross validation/test datas and try to classify price range of a diamond, using its features."
   ]
  },
  {
   "cell_type": "code",
   "execution_count": 1,
   "metadata": {},
   "outputs": [
    {
     "name": "stderr",
     "output_type": "stream",
     "text": [
      "Using TensorFlow backend.\n"
     ]
    }
   ],
   "source": [
    "%matplotlib inline\n",
    "\n",
    "import math\n",
    "import numpy as np\n",
    "import pandas as pd\n",
    "\n",
    "import seaborn as sns\n",
    "import matplotlib.pyplot as plt\n",
    "\n",
    "np.random.seed(1)\n",
    "\n",
    "import keras\n",
    "from keras.layers import Dense, Dropout, Activation, Flatten\n",
    "from keras.models import Sequential\n",
    "from keras.layers import Convolution2D, MaxPooling2D, AveragePooling2D\n",
    "from keras.utils import to_categorical\n",
    "from sklearn.model_selection import train_test_split\n",
    "from sklearn.linear_model import LogisticRegression\n",
    "from sklearn.svm import SVC, LinearSVC\n",
    "from sklearn.ensemble import RandomForestClassifier\n",
    "from sklearn.neighbors import KNeighborsClassifier\n",
    "from sklearn.naive_bayes import GaussianNB\n",
    "from sklearn.linear_model import Perceptron\n",
    "from sklearn.linear_model import SGDClassifier\n",
    "from sklearn.tree import DecisionTreeClassifier"
   ]
  },
  {
   "cell_type": "code",
   "execution_count": 2,
   "metadata": {
    "collapsed": true
   },
   "outputs": [],
   "source": [
    "data = pd.read_csv(\"diamonds.csv\")"
   ]
  },
  {
   "cell_type": "markdown",
   "metadata": {},
   "source": [
    "### What features have we got?  "
   ]
  },
  {
   "cell_type": "code",
   "execution_count": 3,
   "metadata": {},
   "outputs": [
    {
     "name": "stdout",
     "output_type": "stream",
     "text": [
      "['Unnamed: 0' 'carat' 'cut' 'color' 'clarity' 'depth' 'table' 'price' 'x'\n",
      " 'y' 'z']\n"
     ]
    }
   ],
   "source": [
    "print(data.columns.values)"
   ]
  },
  {
   "cell_type": "markdown",
   "metadata": {},
   "source": [
    "### Features \n",
    "* **carat** - the number of carats of this diamond\n",
    "\n",
    "* **cut** - the quality of the cut\n",
    "\n",
    "* **color** - the color of the diamond\n",
    "\n",
    "* **clarity** - how clear the diamond is \n",
    "\n",
    "* **x** - length in mm \n",
    "\n",
    "* **y** - width in mm \n",
    "\n",
    "* **z** - depth in mm \n",
    "\n",
    "* **depth** - total depth percentage = z / mean(x, y) = 2 * z / (x + y)\n",
    "\n",
    "* **table** - width of top of diamond relative to widest point\n",
    "\n",
    "\n",
    "There is one unnamed feature, so let's preview the data to see what it may represent"
   ]
  },
  {
   "cell_type": "code",
   "execution_count": 4,
   "metadata": {},
   "outputs": [
    {
     "data": {
      "text/html": [
       "<div>\n",
       "<style>\n",
       "    .dataframe thead tr:only-child th {\n",
       "        text-align: right;\n",
       "    }\n",
       "\n",
       "    .dataframe thead th {\n",
       "        text-align: left;\n",
       "    }\n",
       "\n",
       "    .dataframe tbody tr th {\n",
       "        vertical-align: top;\n",
       "    }\n",
       "</style>\n",
       "<table border=\"1\" class=\"dataframe\">\n",
       "  <thead>\n",
       "    <tr style=\"text-align: right;\">\n",
       "      <th></th>\n",
       "      <th>Unnamed: 0</th>\n",
       "      <th>carat</th>\n",
       "      <th>cut</th>\n",
       "      <th>color</th>\n",
       "      <th>clarity</th>\n",
       "      <th>depth</th>\n",
       "      <th>table</th>\n",
       "      <th>price</th>\n",
       "      <th>x</th>\n",
       "      <th>y</th>\n",
       "      <th>z</th>\n",
       "    </tr>\n",
       "  </thead>\n",
       "  <tbody>\n",
       "    <tr>\n",
       "      <th>0</th>\n",
       "      <td>1</td>\n",
       "      <td>0.23</td>\n",
       "      <td>Ideal</td>\n",
       "      <td>E</td>\n",
       "      <td>SI2</td>\n",
       "      <td>61.5</td>\n",
       "      <td>55.0</td>\n",
       "      <td>326</td>\n",
       "      <td>3.95</td>\n",
       "      <td>3.98</td>\n",
       "      <td>2.43</td>\n",
       "    </tr>\n",
       "    <tr>\n",
       "      <th>1</th>\n",
       "      <td>2</td>\n",
       "      <td>0.21</td>\n",
       "      <td>Premium</td>\n",
       "      <td>E</td>\n",
       "      <td>SI1</td>\n",
       "      <td>59.8</td>\n",
       "      <td>61.0</td>\n",
       "      <td>326</td>\n",
       "      <td>3.89</td>\n",
       "      <td>3.84</td>\n",
       "      <td>2.31</td>\n",
       "    </tr>\n",
       "    <tr>\n",
       "      <th>2</th>\n",
       "      <td>3</td>\n",
       "      <td>0.23</td>\n",
       "      <td>Good</td>\n",
       "      <td>E</td>\n",
       "      <td>VS1</td>\n",
       "      <td>56.9</td>\n",
       "      <td>65.0</td>\n",
       "      <td>327</td>\n",
       "      <td>4.05</td>\n",
       "      <td>4.07</td>\n",
       "      <td>2.31</td>\n",
       "    </tr>\n",
       "    <tr>\n",
       "      <th>3</th>\n",
       "      <td>4</td>\n",
       "      <td>0.29</td>\n",
       "      <td>Premium</td>\n",
       "      <td>I</td>\n",
       "      <td>VS2</td>\n",
       "      <td>62.4</td>\n",
       "      <td>58.0</td>\n",
       "      <td>334</td>\n",
       "      <td>4.20</td>\n",
       "      <td>4.23</td>\n",
       "      <td>2.63</td>\n",
       "    </tr>\n",
       "    <tr>\n",
       "      <th>4</th>\n",
       "      <td>5</td>\n",
       "      <td>0.31</td>\n",
       "      <td>Good</td>\n",
       "      <td>J</td>\n",
       "      <td>SI2</td>\n",
       "      <td>63.3</td>\n",
       "      <td>58.0</td>\n",
       "      <td>335</td>\n",
       "      <td>4.34</td>\n",
       "      <td>4.35</td>\n",
       "      <td>2.75</td>\n",
       "    </tr>\n",
       "  </tbody>\n",
       "</table>\n",
       "</div>"
      ],
      "text/plain": [
       "   Unnamed: 0  carat      cut color clarity  depth  table  price     x     y  \\\n",
       "0           1   0.23    Ideal     E     SI2   61.5   55.0    326  3.95  3.98   \n",
       "1           2   0.21  Premium     E     SI1   59.8   61.0    326  3.89  3.84   \n",
       "2           3   0.23     Good     E     VS1   56.9   65.0    327  4.05  4.07   \n",
       "3           4   0.29  Premium     I     VS2   62.4   58.0    334  4.20  4.23   \n",
       "4           5   0.31     Good     J     SI2   63.3   58.0    335  4.34  4.35   \n",
       "\n",
       "      z  \n",
       "0  2.43  \n",
       "1  2.31  \n",
       "2  2.31  \n",
       "3  2.63  \n",
       "4  2.75  "
      ]
     },
     "execution_count": 4,
     "metadata": {},
     "output_type": "execute_result"
    }
   ],
   "source": [
    "data.head()"
   ]
  },
  {
   "cell_type": "code",
   "execution_count": 5,
   "metadata": {},
   "outputs": [
    {
     "data": {
      "text/html": [
       "<div>\n",
       "<style>\n",
       "    .dataframe thead tr:only-child th {\n",
       "        text-align: right;\n",
       "    }\n",
       "\n",
       "    .dataframe thead th {\n",
       "        text-align: left;\n",
       "    }\n",
       "\n",
       "    .dataframe tbody tr th {\n",
       "        vertical-align: top;\n",
       "    }\n",
       "</style>\n",
       "<table border=\"1\" class=\"dataframe\">\n",
       "  <thead>\n",
       "    <tr style=\"text-align: right;\">\n",
       "      <th></th>\n",
       "      <th>Unnamed: 0</th>\n",
       "      <th>carat</th>\n",
       "      <th>cut</th>\n",
       "      <th>color</th>\n",
       "      <th>clarity</th>\n",
       "      <th>depth</th>\n",
       "      <th>table</th>\n",
       "      <th>price</th>\n",
       "      <th>x</th>\n",
       "      <th>y</th>\n",
       "      <th>z</th>\n",
       "    </tr>\n",
       "  </thead>\n",
       "  <tbody>\n",
       "    <tr>\n",
       "      <th>53935</th>\n",
       "      <td>53936</td>\n",
       "      <td>0.72</td>\n",
       "      <td>Ideal</td>\n",
       "      <td>D</td>\n",
       "      <td>SI1</td>\n",
       "      <td>60.8</td>\n",
       "      <td>57.0</td>\n",
       "      <td>2757</td>\n",
       "      <td>5.75</td>\n",
       "      <td>5.76</td>\n",
       "      <td>3.50</td>\n",
       "    </tr>\n",
       "    <tr>\n",
       "      <th>53936</th>\n",
       "      <td>53937</td>\n",
       "      <td>0.72</td>\n",
       "      <td>Good</td>\n",
       "      <td>D</td>\n",
       "      <td>SI1</td>\n",
       "      <td>63.1</td>\n",
       "      <td>55.0</td>\n",
       "      <td>2757</td>\n",
       "      <td>5.69</td>\n",
       "      <td>5.75</td>\n",
       "      <td>3.61</td>\n",
       "    </tr>\n",
       "    <tr>\n",
       "      <th>53937</th>\n",
       "      <td>53938</td>\n",
       "      <td>0.70</td>\n",
       "      <td>Very Good</td>\n",
       "      <td>D</td>\n",
       "      <td>SI1</td>\n",
       "      <td>62.8</td>\n",
       "      <td>60.0</td>\n",
       "      <td>2757</td>\n",
       "      <td>5.66</td>\n",
       "      <td>5.68</td>\n",
       "      <td>3.56</td>\n",
       "    </tr>\n",
       "    <tr>\n",
       "      <th>53938</th>\n",
       "      <td>53939</td>\n",
       "      <td>0.86</td>\n",
       "      <td>Premium</td>\n",
       "      <td>H</td>\n",
       "      <td>SI2</td>\n",
       "      <td>61.0</td>\n",
       "      <td>58.0</td>\n",
       "      <td>2757</td>\n",
       "      <td>6.15</td>\n",
       "      <td>6.12</td>\n",
       "      <td>3.74</td>\n",
       "    </tr>\n",
       "    <tr>\n",
       "      <th>53939</th>\n",
       "      <td>53940</td>\n",
       "      <td>0.75</td>\n",
       "      <td>Ideal</td>\n",
       "      <td>D</td>\n",
       "      <td>SI2</td>\n",
       "      <td>62.2</td>\n",
       "      <td>55.0</td>\n",
       "      <td>2757</td>\n",
       "      <td>5.83</td>\n",
       "      <td>5.87</td>\n",
       "      <td>3.64</td>\n",
       "    </tr>\n",
       "  </tbody>\n",
       "</table>\n",
       "</div>"
      ],
      "text/plain": [
       "       Unnamed: 0  carat        cut color clarity  depth  table  price     x  \\\n",
       "53935       53936   0.72      Ideal     D     SI1   60.8   57.0   2757  5.75   \n",
       "53936       53937   0.72       Good     D     SI1   63.1   55.0   2757  5.69   \n",
       "53937       53938   0.70  Very Good     D     SI1   62.8   60.0   2757  5.66   \n",
       "53938       53939   0.86    Premium     H     SI2   61.0   58.0   2757  6.15   \n",
       "53939       53940   0.75      Ideal     D     SI2   62.2   55.0   2757  5.83   \n",
       "\n",
       "          y     z  \n",
       "53935  5.76  3.50  \n",
       "53936  5.75  3.61  \n",
       "53937  5.68  3.56  \n",
       "53938  6.12  3.74  \n",
       "53939  5.87  3.64  "
      ]
     },
     "execution_count": 5,
     "metadata": {},
     "output_type": "execute_result"
    }
   ],
   "source": [
    "data.tail()"
   ]
  },
  {
   "cell_type": "markdown",
   "metadata": {},
   "source": [
    "As we see, the unnamed feature is just index of the diamond, which obviously,has nothing to do with the price of the diamond, so it can be dropped"
   ]
  },
  {
   "cell_type": "code",
   "execution_count": 6,
   "metadata": {},
   "outputs": [
    {
     "name": "stdout",
     "output_type": "stream",
     "text": [
      "['carat' 'cut' 'color' 'clarity' 'depth' 'table' 'price' 'x' 'y' 'z']\n"
     ]
    }
   ],
   "source": [
    "data = data.drop(['Unnamed: 0'], axis=1)\n",
    "print(data.columns.values)"
   ]
  },
  {
   "cell_type": "markdown",
   "metadata": {},
   "source": [
    "The unnamed feature was successfully removed from the dataset\n",
    "\n",
    "#### Now let's categorize these features\n",
    "The features carat, x, y, z, depth, table and price are continuous (numerical).\n",
    "\n",
    "The other features: cut, color and clarity are categorical nominal.\n",
    "\n",
    "#### Are there any features missing from the dataset?"
   ]
  },
  {
   "cell_type": "code",
   "execution_count": 7,
   "metadata": {},
   "outputs": [
    {
     "name": "stdout",
     "output_type": "stream",
     "text": [
      "<class 'pandas.core.frame.DataFrame'>\n",
      "RangeIndex: 53940 entries, 0 to 53939\n",
      "Data columns (total 10 columns):\n",
      "carat      53940 non-null float64\n",
      "cut        53940 non-null object\n",
      "color      53940 non-null object\n",
      "clarity    53940 non-null object\n",
      "depth      53940 non-null float64\n",
      "table      53940 non-null float64\n",
      "price      53940 non-null int64\n",
      "x          53940 non-null float64\n",
      "y          53940 non-null float64\n",
      "z          53940 non-null float64\n",
      "dtypes: float64(6), int64(1), object(3)\n",
      "memory usage: 4.1+ MB\n"
     ]
    }
   ],
   "source": [
    "data.info()"
   ]
  },
  {
   "cell_type": "markdown",
   "metadata": {
    "collapsed": true
   },
   "source": [
    "We now know that every column has 53940 values, so none of them are missing and need to be completed\n",
    "\n",
    "This chart also givesus information about datatypes of the features.\n",
    "* 6 features are float64\n",
    "* 1 feature (price) is int64\n",
    "* 3 features (cut, color and clarity) are objects, which is same as strings\n",
    "\n",
    "We will need to convert string features to ints, for classification purposes\n",
    "\n",
    "\n",
    "#### Distribution of numerical feature values across the samples"
   ]
  },
  {
   "cell_type": "code",
   "execution_count": 8,
   "metadata": {},
   "outputs": [
    {
     "data": {
      "text/html": [
       "<div>\n",
       "<style>\n",
       "    .dataframe thead tr:only-child th {\n",
       "        text-align: right;\n",
       "    }\n",
       "\n",
       "    .dataframe thead th {\n",
       "        text-align: left;\n",
       "    }\n",
       "\n",
       "    .dataframe tbody tr th {\n",
       "        vertical-align: top;\n",
       "    }\n",
       "</style>\n",
       "<table border=\"1\" class=\"dataframe\">\n",
       "  <thead>\n",
       "    <tr style=\"text-align: right;\">\n",
       "      <th></th>\n",
       "      <th>carat</th>\n",
       "      <th>depth</th>\n",
       "      <th>table</th>\n",
       "      <th>price</th>\n",
       "      <th>x</th>\n",
       "      <th>y</th>\n",
       "      <th>z</th>\n",
       "    </tr>\n",
       "  </thead>\n",
       "  <tbody>\n",
       "    <tr>\n",
       "      <th>count</th>\n",
       "      <td>53940.000000</td>\n",
       "      <td>53940.000000</td>\n",
       "      <td>53940.000000</td>\n",
       "      <td>53940.000000</td>\n",
       "      <td>53940.000000</td>\n",
       "      <td>53940.000000</td>\n",
       "      <td>53940.000000</td>\n",
       "    </tr>\n",
       "    <tr>\n",
       "      <th>mean</th>\n",
       "      <td>0.797940</td>\n",
       "      <td>61.749405</td>\n",
       "      <td>57.457184</td>\n",
       "      <td>3932.799722</td>\n",
       "      <td>5.731157</td>\n",
       "      <td>5.734526</td>\n",
       "      <td>3.538734</td>\n",
       "    </tr>\n",
       "    <tr>\n",
       "      <th>std</th>\n",
       "      <td>0.474011</td>\n",
       "      <td>1.432621</td>\n",
       "      <td>2.234491</td>\n",
       "      <td>3989.439738</td>\n",
       "      <td>1.121761</td>\n",
       "      <td>1.142135</td>\n",
       "      <td>0.705699</td>\n",
       "    </tr>\n",
       "    <tr>\n",
       "      <th>min</th>\n",
       "      <td>0.200000</td>\n",
       "      <td>43.000000</td>\n",
       "      <td>43.000000</td>\n",
       "      <td>326.000000</td>\n",
       "      <td>0.000000</td>\n",
       "      <td>0.000000</td>\n",
       "      <td>0.000000</td>\n",
       "    </tr>\n",
       "    <tr>\n",
       "      <th>25%</th>\n",
       "      <td>0.400000</td>\n",
       "      <td>61.000000</td>\n",
       "      <td>56.000000</td>\n",
       "      <td>950.000000</td>\n",
       "      <td>4.710000</td>\n",
       "      <td>4.720000</td>\n",
       "      <td>2.910000</td>\n",
       "    </tr>\n",
       "    <tr>\n",
       "      <th>50%</th>\n",
       "      <td>0.700000</td>\n",
       "      <td>61.800000</td>\n",
       "      <td>57.000000</td>\n",
       "      <td>2401.000000</td>\n",
       "      <td>5.700000</td>\n",
       "      <td>5.710000</td>\n",
       "      <td>3.530000</td>\n",
       "    </tr>\n",
       "    <tr>\n",
       "      <th>75%</th>\n",
       "      <td>1.040000</td>\n",
       "      <td>62.500000</td>\n",
       "      <td>59.000000</td>\n",
       "      <td>5324.250000</td>\n",
       "      <td>6.540000</td>\n",
       "      <td>6.540000</td>\n",
       "      <td>4.040000</td>\n",
       "    </tr>\n",
       "    <tr>\n",
       "      <th>90%</th>\n",
       "      <td>1.510000</td>\n",
       "      <td>63.300000</td>\n",
       "      <td>60.000000</td>\n",
       "      <td>9821.000000</td>\n",
       "      <td>7.310000</td>\n",
       "      <td>7.300000</td>\n",
       "      <td>4.520000</td>\n",
       "    </tr>\n",
       "    <tr>\n",
       "      <th>95%</th>\n",
       "      <td>1.700000</td>\n",
       "      <td>63.800000</td>\n",
       "      <td>61.000000</td>\n",
       "      <td>13107.100000</td>\n",
       "      <td>7.660000</td>\n",
       "      <td>7.650000</td>\n",
       "      <td>4.730000</td>\n",
       "    </tr>\n",
       "    <tr>\n",
       "      <th>99%</th>\n",
       "      <td>2.180000</td>\n",
       "      <td>65.600000</td>\n",
       "      <td>64.000000</td>\n",
       "      <td>17378.220000</td>\n",
       "      <td>8.360000</td>\n",
       "      <td>8.340000</td>\n",
       "      <td>5.150000</td>\n",
       "    </tr>\n",
       "    <tr>\n",
       "      <th>max</th>\n",
       "      <td>5.010000</td>\n",
       "      <td>79.000000</td>\n",
       "      <td>95.000000</td>\n",
       "      <td>18823.000000</td>\n",
       "      <td>10.740000</td>\n",
       "      <td>58.900000</td>\n",
       "      <td>31.800000</td>\n",
       "    </tr>\n",
       "  </tbody>\n",
       "</table>\n",
       "</div>"
      ],
      "text/plain": [
       "              carat         depth         table         price             x  \\\n",
       "count  53940.000000  53940.000000  53940.000000  53940.000000  53940.000000   \n",
       "mean       0.797940     61.749405     57.457184   3932.799722      5.731157   \n",
       "std        0.474011      1.432621      2.234491   3989.439738      1.121761   \n",
       "min        0.200000     43.000000     43.000000    326.000000      0.000000   \n",
       "25%        0.400000     61.000000     56.000000    950.000000      4.710000   \n",
       "50%        0.700000     61.800000     57.000000   2401.000000      5.700000   \n",
       "75%        1.040000     62.500000     59.000000   5324.250000      6.540000   \n",
       "90%        1.510000     63.300000     60.000000   9821.000000      7.310000   \n",
       "95%        1.700000     63.800000     61.000000  13107.100000      7.660000   \n",
       "99%        2.180000     65.600000     64.000000  17378.220000      8.360000   \n",
       "max        5.010000     79.000000     95.000000  18823.000000     10.740000   \n",
       "\n",
       "                  y             z  \n",
       "count  53940.000000  53940.000000  \n",
       "mean       5.734526      3.538734  \n",
       "std        1.142135      0.705699  \n",
       "min        0.000000      0.000000  \n",
       "25%        4.720000      2.910000  \n",
       "50%        5.710000      3.530000  \n",
       "75%        6.540000      4.040000  \n",
       "90%        7.300000      4.520000  \n",
       "95%        7.650000      4.730000  \n",
       "99%        8.340000      5.150000  \n",
       "max       58.900000     31.800000  "
      ]
     },
     "execution_count": 8,
     "metadata": {},
     "output_type": "execute_result"
    }
   ],
   "source": [
    "data.describe(percentiles=[.25, .5, .75, 0.9, 0.95, 0.99])"
   ]
  },
  {
   "cell_type": "markdown",
   "metadata": {},
   "source": [
    "* 53940 total samples, as mentioned earlier\n",
    "* ranges of each feature:\n",
    "    * **carat** - 0.2 - 5.01\n",
    "    * **price** - \\$326 - \\$18823  \n",
    "    * **x** - 0 - 10.74mm\n",
    "    * **y** - 0 - 58.9mm\n",
    "    * **z** - 0 - 31.8mm\n",
    "    * **depth** - 43% - 79%\n",
    "    * **table** - 43% - 95%\n",
    "* only 25% of diamonds cost more than \\$5300 and 5% more than \\$13000\n",
    "* only 25% of diamonds weigh more than 1 carat and 1% more than 2.1 carats\n",
    "* length(x) and width(y) have almost identical distribution, despite max of y being 5 times more\n",
    "* the max of y is 58.9mm but only 1% of the diamonds have width more than 8.34mm\n",
    "* the max of z is 31.8mm but only 1% of the diamonds have depth more than 5.15mm\n",
    "\n",
    "These observations gives a sense of how rare big diamonds are and how much it affects the price \n",
    "\n",
    "\n",
    "\n",
    "#### Distribution of categorical feature values across the samples"
   ]
  },
  {
   "cell_type": "code",
   "execution_count": 9,
   "metadata": {},
   "outputs": [
    {
     "data": {
      "text/html": [
       "<div>\n",
       "<style>\n",
       "    .dataframe thead tr:only-child th {\n",
       "        text-align: right;\n",
       "    }\n",
       "\n",
       "    .dataframe thead th {\n",
       "        text-align: left;\n",
       "    }\n",
       "\n",
       "    .dataframe tbody tr th {\n",
       "        vertical-align: top;\n",
       "    }\n",
       "</style>\n",
       "<table border=\"1\" class=\"dataframe\">\n",
       "  <thead>\n",
       "    <tr style=\"text-align: right;\">\n",
       "      <th></th>\n",
       "      <th>cut</th>\n",
       "      <th>color</th>\n",
       "      <th>clarity</th>\n",
       "    </tr>\n",
       "  </thead>\n",
       "  <tbody>\n",
       "    <tr>\n",
       "      <th>count</th>\n",
       "      <td>53940</td>\n",
       "      <td>53940</td>\n",
       "      <td>53940</td>\n",
       "    </tr>\n",
       "    <tr>\n",
       "      <th>unique</th>\n",
       "      <td>5</td>\n",
       "      <td>7</td>\n",
       "      <td>8</td>\n",
       "    </tr>\n",
       "    <tr>\n",
       "      <th>top</th>\n",
       "      <td>Ideal</td>\n",
       "      <td>G</td>\n",
       "      <td>SI1</td>\n",
       "    </tr>\n",
       "    <tr>\n",
       "      <th>freq</th>\n",
       "      <td>21551</td>\n",
       "      <td>11292</td>\n",
       "      <td>13065</td>\n",
       "    </tr>\n",
       "  </tbody>\n",
       "</table>\n",
       "</div>"
      ],
      "text/plain": [
       "          cut  color clarity\n",
       "count   53940  53940   53940\n",
       "unique      5      7       8\n",
       "top     Ideal      G     SI1\n",
       "freq    21551  11292   13065"
      ]
     },
     "execution_count": 9,
     "metadata": {},
     "output_type": "execute_result"
    }
   ],
   "source": [
    "data.describe(include=['O'])"
   ]
  },
  {
   "cell_type": "markdown",
   "metadata": {},
   "source": [
    "* cut has 5 unique values and most frequent is Ideal, which characterizes 40% of the samples\n",
    "* color has 7 unique values and most frequent is G, which characterizes 21% of the samples\n",
    "* clarity has 8 unique values and most frequent is SI1, which characterizes 24% of the samples\n",
    "\n",
    "#### But what are all the possible values and their frequencies of these categorical features? "
   ]
  },
  {
   "cell_type": "code",
   "execution_count": 10,
   "metadata": {},
   "outputs": [
    {
     "data": {
      "text/plain": [
       "Ideal        21551\n",
       "Premium      13791\n",
       "Very Good    12082\n",
       "Good          4906\n",
       "Fair          1610\n",
       "Name: cut, dtype: int64"
      ]
     },
     "execution_count": 10,
     "metadata": {},
     "output_type": "execute_result"
    }
   ],
   "source": [
    "data['cut'].value_counts()"
   ]
  },
  {
   "cell_type": "markdown",
   "metadata": {},
   "source": [
    "* cut is either Ideal, Premium, Very Good, Good or Fair\n",
    "* unlike size defining features, the better the cut, the more samples we have"
   ]
  },
  {
   "cell_type": "code",
   "execution_count": 11,
   "metadata": {},
   "outputs": [
    {
     "data": {
      "text/plain": [
       "G    11292\n",
       "E     9797\n",
       "F     9542\n",
       "H     8304\n",
       "D     6775\n",
       "I     5422\n",
       "J     2808\n",
       "Name: color, dtype: int64"
      ]
     },
     "execution_count": 11,
     "metadata": {},
     "output_type": "execute_result"
    }
   ],
   "source": [
    "data['color'].value_counts()"
   ]
  },
  {
   "cell_type": "markdown",
   "metadata": {},
   "source": [
    "* color is either D, E, F, G, H, I or J\n",
    "* after some research we can find that the above list is sorted from best to worst\n",
    "    * D-F are colorless and cost the most\n",
    "    * G-J are near colorless and cost less\n",
    "* the medium quality color is the most frequent and worst quality is the least frequent\n",
    "* diamond colors are from D to Z, but our dataset only contains D to J, so looking at color only, this dataset is of high quality diamonds"
   ]
  },
  {
   "cell_type": "code",
   "execution_count": 12,
   "metadata": {},
   "outputs": [
    {
     "data": {
      "text/plain": [
       "SI1     13065\n",
       "VS2     12258\n",
       "SI2      9194\n",
       "VS1      8171\n",
       "VVS2     5066\n",
       "VVS1     3655\n",
       "IF       1790\n",
       "I1        741\n",
       "Name: clarity, dtype: int64"
      ]
     },
     "execution_count": 12,
     "metadata": {},
     "output_type": "execute_result"
    }
   ],
   "source": [
    "data['clarity'].value_counts()"
   ]
  },
  {
   "cell_type": "markdown",
   "metadata": {},
   "source": [
    "* color is either I1, SI2, SI1, VS2, VS1, VVS2, VVS1 or IF sorted from worst to best (by researching)\n",
    "* we have no samples with clarity I2, I3 (the worst) and FL (flawless, incredibly rare)\n",
    "* as with color, medium quality diamonds (judging by clarity only) are the most frequent and worst quality - the least frequent\n",
    "\n",
    "\n",
    "#### How are these categorical features correlated with the price?"
   ]
  },
  {
   "cell_type": "code",
   "execution_count": 13,
   "metadata": {},
   "outputs": [
    {
     "data": {
      "text/html": [
       "<div>\n",
       "<style>\n",
       "    .dataframe thead tr:only-child th {\n",
       "        text-align: right;\n",
       "    }\n",
       "\n",
       "    .dataframe thead th {\n",
       "        text-align: left;\n",
       "    }\n",
       "\n",
       "    .dataframe tbody tr th {\n",
       "        vertical-align: top;\n",
       "    }\n",
       "</style>\n",
       "<table border=\"1\" class=\"dataframe\">\n",
       "  <thead>\n",
       "    <tr style=\"text-align: right;\">\n",
       "      <th></th>\n",
       "      <th>cut</th>\n",
       "      <th>price</th>\n",
       "    </tr>\n",
       "  </thead>\n",
       "  <tbody>\n",
       "    <tr>\n",
       "      <th>3</th>\n",
       "      <td>Premium</td>\n",
       "      <td>4584.257704</td>\n",
       "    </tr>\n",
       "    <tr>\n",
       "      <th>0</th>\n",
       "      <td>Fair</td>\n",
       "      <td>4358.757764</td>\n",
       "    </tr>\n",
       "    <tr>\n",
       "      <th>4</th>\n",
       "      <td>Very Good</td>\n",
       "      <td>3981.759891</td>\n",
       "    </tr>\n",
       "    <tr>\n",
       "      <th>1</th>\n",
       "      <td>Good</td>\n",
       "      <td>3928.864452</td>\n",
       "    </tr>\n",
       "    <tr>\n",
       "      <th>2</th>\n",
       "      <td>Ideal</td>\n",
       "      <td>3457.541970</td>\n",
       "    </tr>\n",
       "  </tbody>\n",
       "</table>\n",
       "</div>"
      ],
      "text/plain": [
       "         cut        price\n",
       "3    Premium  4584.257704\n",
       "0       Fair  4358.757764\n",
       "4  Very Good  3981.759891\n",
       "1       Good  3928.864452\n",
       "2      Ideal  3457.541970"
      ]
     },
     "execution_count": 13,
     "metadata": {},
     "output_type": "execute_result"
    }
   ],
   "source": [
    "data[['cut', 'price']].groupby(['cut'], as_index=False).mean().sort_values(by='price', ascending=False)"
   ]
  },
  {
   "cell_type": "markdown",
   "metadata": {},
   "source": [
    "So diamonds with Ideal cut have the lowest average price in our dataset and diamonds with Fair cut have the second highest average price. What can be the cause?\n",
    "\n",
    "As we earlier saw, in this dataset diamonds with ideal cut are the most frequent and ones with fair cut are the least frequent, so it's logical that there are bigger ranges for other features in ideally cut diamonds, than in fairly cut ones. So there may be many really little or not so clear ideally cut diamonds, which will reduce there average price and most of the fairly cut diamonds may be otherwise good, increasing there average price. Or most of the highest price diamonds maybe fairly cut. \n",
    "\n",
    "We can assume, that Premium cut diamonds, which is the second best type of cut, mostly have good other features in our dataset. \n",
    "\n",
    "This chart gives almost no useful information about correlation between price and cut, so further inspection is needed. Though it's not hard to guess, that if other features are the same, the better the cut, the higher the price will be.\n",
    "\n",
    "To test the above hypthesis (potential answer to the question) let's inspect distribution of cuts when price is less than $1500"
   ]
  },
  {
   "cell_type": "code",
   "execution_count": 14,
   "metadata": {},
   "outputs": [
    {
     "data": {
      "text/html": [
       "<div>\n",
       "<style>\n",
       "    .dataframe thead tr:only-child th {\n",
       "        text-align: right;\n",
       "    }\n",
       "\n",
       "    .dataframe thead th {\n",
       "        text-align: left;\n",
       "    }\n",
       "\n",
       "    .dataframe tbody tr th {\n",
       "        vertical-align: top;\n",
       "    }\n",
       "</style>\n",
       "<table border=\"1\" class=\"dataframe\">\n",
       "  <thead>\n",
       "    <tr style=\"text-align: right;\">\n",
       "      <th></th>\n",
       "      <th>cut</th>\n",
       "      <th>count</th>\n",
       "    </tr>\n",
       "  </thead>\n",
       "  <tbody>\n",
       "    <tr>\n",
       "      <th>2</th>\n",
       "      <td>Ideal</td>\n",
       "      <td>9518</td>\n",
       "    </tr>\n",
       "    <tr>\n",
       "      <th>3</th>\n",
       "      <td>Premium</td>\n",
       "      <td>4492</td>\n",
       "    </tr>\n",
       "    <tr>\n",
       "      <th>4</th>\n",
       "      <td>Very Good</td>\n",
       "      <td>4186</td>\n",
       "    </tr>\n",
       "    <tr>\n",
       "      <th>1</th>\n",
       "      <td>Good</td>\n",
       "      <td>1548</td>\n",
       "    </tr>\n",
       "    <tr>\n",
       "      <th>0</th>\n",
       "      <td>Fair</td>\n",
       "      <td>266</td>\n",
       "    </tr>\n",
       "  </tbody>\n",
       "</table>\n",
       "</div>"
      ],
      "text/plain": [
       "         cut  count\n",
       "2      Ideal   9518\n",
       "3    Premium   4492\n",
       "4  Very Good   4186\n",
       "1       Good   1548\n",
       "0       Fair    266"
      ]
     },
     "execution_count": 14,
     "metadata": {},
     "output_type": "execute_result"
    }
   ],
   "source": [
    "x = data[['cut', 'price']].loc[data['price'] < 1500].groupby(['cut'], as_index=False).count()\\\n",
    ".sort_values(by='price', ascending=False)\n",
    "\n",
    "x.columns = ['cut', 'count']\n",
    "x"
   ]
  },
  {
   "cell_type": "markdown",
   "metadata": {},
   "source": [
    "As we can see 16.5% of fairly cut diamonds have price less than $1500, while as many as 44.1% of ideally cut diamonds fall into the same price range.\n",
    "\n",
    "What about diamonds that cost way more?"
   ]
  },
  {
   "cell_type": "code",
   "execution_count": 15,
   "metadata": {},
   "outputs": [
    {
     "data": {
      "text/html": [
       "<div>\n",
       "<style>\n",
       "    .dataframe thead tr:only-child th {\n",
       "        text-align: right;\n",
       "    }\n",
       "\n",
       "    .dataframe thead th {\n",
       "        text-align: left;\n",
       "    }\n",
       "\n",
       "    .dataframe tbody tr th {\n",
       "        vertical-align: top;\n",
       "    }\n",
       "</style>\n",
       "<table border=\"1\" class=\"dataframe\">\n",
       "  <thead>\n",
       "    <tr style=\"text-align: right;\">\n",
       "      <th></th>\n",
       "      <th>cut</th>\n",
       "      <th>count</th>\n",
       "    </tr>\n",
       "  </thead>\n",
       "  <tbody>\n",
       "    <tr>\n",
       "      <th>3</th>\n",
       "      <td>Premium</td>\n",
       "      <td>587</td>\n",
       "    </tr>\n",
       "    <tr>\n",
       "      <th>2</th>\n",
       "      <td>Ideal</td>\n",
       "      <td>531</td>\n",
       "    </tr>\n",
       "    <tr>\n",
       "      <th>4</th>\n",
       "      <td>Very Good</td>\n",
       "      <td>367</td>\n",
       "    </tr>\n",
       "    <tr>\n",
       "      <th>1</th>\n",
       "      <td>Good</td>\n",
       "      <td>129</td>\n",
       "    </tr>\n",
       "    <tr>\n",
       "      <th>0</th>\n",
       "      <td>Fair</td>\n",
       "      <td>41</td>\n",
       "    </tr>\n",
       "  </tbody>\n",
       "</table>\n",
       "</div>"
      ],
      "text/plain": [
       "         cut  count\n",
       "3    Premium    587\n",
       "2      Ideal    531\n",
       "4  Very Good    367\n",
       "1       Good    129\n",
       "0       Fair     41"
      ]
     },
     "execution_count": 15,
     "metadata": {},
     "output_type": "execute_result"
    }
   ],
   "source": [
    "x = data[['cut', 'price']].loc[data['price'] > 15000].groupby(['cut'], as_index=False).count()\\\n",
    ".sort_values(by='price', ascending=False)\n",
    "\n",
    "x.columns = ['cut', 'count']\n",
    "x"
   ]
  },
  {
   "cell_type": "markdown",
   "metadata": {},
   "source": [
    "2.5% of fairly cut diamonds have price greater than $15000, while 2.4% of ideally cut diamonds fall into the same price range. The 0.1% difference is not that big of a deal, so turns out, high price diamonds didn't cause the difference between there average prices. Also, looking at the numbers, the second assumption, that most of the highest price diamonds may be fairly cut, turned out to be wrong, only 2.4% of these diamonds are fairly cut.\n",
    "\n",
    "Let's try to explain these phenomena by visualizing data"
   ]
  },
  {
   "cell_type": "code",
   "execution_count": 16,
   "metadata": {},
   "outputs": [
    {
     "data": {
      "text/plain": [
       "<seaborn.axisgrid.FacetGrid at 0xc0d755f048>"
      ]
     },
     "execution_count": 16,
     "metadata": {},
     "output_type": "execute_result"
    },
    {
     "data": {
      "image/png": "[encoded data removed]",
      "text/plain": [
       "<matplotlib.figure.Figure at 0xc0d7942f98>"
      ]
     },
     "metadata": {},
     "output_type": "display_data"
    }
   ],
   "source": [
    "g = sns.FacetGrid(data, col='cut')\n",
    "g.map(plt.hist, 'x', bins=10)"
   ]
  },
  {
   "cell_type": "code",
   "execution_count": 17,
   "metadata": {},
   "outputs": [
    {
     "data": {
      "text/plain": [
       "<seaborn.axisgrid.FacetGrid at 0xc0d8681c18>"
      ]
     },
     "execution_count": 17,
     "metadata": {},
     "output_type": "execute_result"
    },
    {
     "data": {
      "image/png": "[encoded data removed]",
      "text/plain": [
       "<matplotlib.figure.Figure at 0xc0d8681d30>"
      ]
     },
     "metadata": {},
     "output_type": "display_data"
    }
   ],
   "source": [
    "g = sns.FacetGrid(data, col='cut')\n",
    "g.map(plt.hist, 'y', bins=10)"
   ]
  },
  {
   "cell_type": "code",
   "execution_count": 18,
   "metadata": {},
   "outputs": [
    {
     "data": {
      "text/plain": [
       "<seaborn.axisgrid.FacetGrid at 0xc0d755fe10>"
      ]
     },
     "execution_count": 18,
     "metadata": {},
     "output_type": "execute_result"
    },
    {
     "data": {
      "image/png": "[encoded data removed]",
      "text/plain": [
       "<matplotlib.figure.Figure at 0xc0d755f908>"
      ]
     },
     "metadata": {},
     "output_type": "display_data"
    }
   ],
   "source": [
    "g = sns.FacetGrid(data, col='cut')\n",
    "g.map(plt.hist, 'z', bins=10)"
   ]
  },
  {
   "cell_type": "code",
   "execution_count": 19,
   "metadata": {},
   "outputs": [
    {
     "data": {
      "text/plain": [
       "<seaborn.axisgrid.FacetGrid at 0xc0d9cf7dd8>"
      ]
     },
     "execution_count": 19,
     "metadata": {},
     "output_type": "execute_result"
    },
    {
     "data": {
      "image/png": "[encoded data removed]",
      "text/plain": [
       "<matplotlib.figure.Figure at 0xc0d9cf7b70>"
      ]
     },
     "metadata": {},
     "output_type": "display_data"
    }
   ],
   "source": [
    "g = sns.FacetGrid(data, col='cut')\n",
    "g.map(plt.hist, 'price', bins=10)"
   ]
  },
  {
   "cell_type": "markdown",
   "metadata": {},
   "source": [
    "Above visualizations show that most of the ideally cut diamonds have small x, y and z, while most of the fairly cut diamonds have average or above average x, y and z and as we expected, way bigger percentage of fairly cut diamonds have high price (> $5000) than ideally cut ones\n",
    "\n",
    "Now let's do the same for other 2 categorical features"
   ]
  },
  {
   "cell_type": "code",
   "execution_count": 20,
   "metadata": {},
   "outputs": [
    {
     "data": {
      "text/html": [
       "<div>\n",
       "<style>\n",
       "    .dataframe thead tr:only-child th {\n",
       "        text-align: right;\n",
       "    }\n",
       "\n",
       "    .dataframe thead th {\n",
       "        text-align: left;\n",
       "    }\n",
       "\n",
       "    .dataframe tbody tr th {\n",
       "        vertical-align: top;\n",
       "    }\n",
       "</style>\n",
       "<table border=\"1\" class=\"dataframe\">\n",
       "  <thead>\n",
       "    <tr style=\"text-align: right;\">\n",
       "      <th></th>\n",
       "      <th>color</th>\n",
       "      <th>price</th>\n",
       "    </tr>\n",
       "  </thead>\n",
       "  <tbody>\n",
       "    <tr>\n",
       "      <th>6</th>\n",
       "      <td>J</td>\n",
       "      <td>5323.818020</td>\n",
       "    </tr>\n",
       "    <tr>\n",
       "      <th>5</th>\n",
       "      <td>I</td>\n",
       "      <td>5091.874954</td>\n",
       "    </tr>\n",
       "    <tr>\n",
       "      <th>4</th>\n",
       "      <td>H</td>\n",
       "      <td>4486.669196</td>\n",
       "    </tr>\n",
       "    <tr>\n",
       "      <th>3</th>\n",
       "      <td>G</td>\n",
       "      <td>3999.135671</td>\n",
       "    </tr>\n",
       "    <tr>\n",
       "      <th>2</th>\n",
       "      <td>F</td>\n",
       "      <td>3724.886397</td>\n",
       "    </tr>\n",
       "    <tr>\n",
       "      <th>0</th>\n",
       "      <td>D</td>\n",
       "      <td>3169.954096</td>\n",
       "    </tr>\n",
       "    <tr>\n",
       "      <th>1</th>\n",
       "      <td>E</td>\n",
       "      <td>3076.752475</td>\n",
       "    </tr>\n",
       "  </tbody>\n",
       "</table>\n",
       "</div>"
      ],
      "text/plain": [
       "  color        price\n",
       "6     J  5323.818020\n",
       "5     I  5091.874954\n",
       "4     H  4486.669196\n",
       "3     G  3999.135671\n",
       "2     F  3724.886397\n",
       "0     D  3169.954096\n",
       "1     E  3076.752475"
      ]
     },
     "execution_count": 20,
     "metadata": {},
     "output_type": "execute_result"
    }
   ],
   "source": [
    "data[['color', 'price']].groupby(['color'], as_index=False).mean().sort_values(by='price', ascending=False)"
   ]
  },
  {
   "cell_type": "markdown",
   "metadata": {},
   "source": [
    "Judging only by color from this table it seems that, the worse the color, the higher the price. Of course this is not true and other features also affect the price. \n",
    "\n",
    "Color J diamonds are the rarest in this dataset, the worst quality, but as it turns out, have the highest average price, let's see what is the cause, by inspecting low and high price ranges."
   ]
  },
  {
   "cell_type": "code",
   "execution_count": 21,
   "metadata": {},
   "outputs": [
    {
     "data": {
      "text/html": [
       "<div>\n",
       "<style>\n",
       "    .dataframe thead tr:only-child th {\n",
       "        text-align: right;\n",
       "    }\n",
       "\n",
       "    .dataframe thead th {\n",
       "        text-align: left;\n",
       "    }\n",
       "\n",
       "    .dataframe tbody tr th {\n",
       "        vertical-align: top;\n",
       "    }\n",
       "</style>\n",
       "<table border=\"1\" class=\"dataframe\">\n",
       "  <thead>\n",
       "    <tr style=\"text-align: right;\">\n",
       "      <th></th>\n",
       "      <th>color</th>\n",
       "      <th>count</th>\n",
       "    </tr>\n",
       "  </thead>\n",
       "  <tbody>\n",
       "    <tr>\n",
       "      <th>1</th>\n",
       "      <td>E</td>\n",
       "      <td>4360</td>\n",
       "    </tr>\n",
       "    <tr>\n",
       "      <th>3</th>\n",
       "      <td>G</td>\n",
       "      <td>4351</td>\n",
       "    </tr>\n",
       "    <tr>\n",
       "      <th>2</th>\n",
       "      <td>F</td>\n",
       "      <td>3617</td>\n",
       "    </tr>\n",
       "    <tr>\n",
       "      <th>0</th>\n",
       "      <td>D</td>\n",
       "      <td>2848</td>\n",
       "    </tr>\n",
       "    <tr>\n",
       "      <th>4</th>\n",
       "      <td>H</td>\n",
       "      <td>2683</td>\n",
       "    </tr>\n",
       "    <tr>\n",
       "      <th>5</th>\n",
       "      <td>I</td>\n",
       "      <td>1543</td>\n",
       "    </tr>\n",
       "    <tr>\n",
       "      <th>6</th>\n",
       "      <td>J</td>\n",
       "      <td>608</td>\n",
       "    </tr>\n",
       "  </tbody>\n",
       "</table>\n",
       "</div>"
      ],
      "text/plain": [
       "  color  count\n",
       "1     E   4360\n",
       "3     G   4351\n",
       "2     F   3617\n",
       "0     D   2848\n",
       "4     H   2683\n",
       "5     I   1543\n",
       "6     J    608"
      ]
     },
     "execution_count": 21,
     "metadata": {},
     "output_type": "execute_result"
    }
   ],
   "source": [
    "x = data[['color', 'price']].loc[data['price'] < 1500].groupby(['color'], as_index=False).count()\\\n",
    ".sort_values(by='price', ascending=False)\n",
    "\n",
    "x.columns = ['color', 'count']\n",
    "x"
   ]
  },
  {
   "cell_type": "markdown",
   "metadata": {},
   "source": [
    "21% of J colored diamonds cost less than $1500, while 44% of E colored diamonds (second best) fall into the same price range"
   ]
  },
  {
   "cell_type": "code",
   "execution_count": 22,
   "metadata": {},
   "outputs": [
    {
     "data": {
      "text/html": [
       "<div>\n",
       "<style>\n",
       "    .dataframe thead tr:only-child th {\n",
       "        text-align: right;\n",
       "    }\n",
       "\n",
       "    .dataframe thead th {\n",
       "        text-align: left;\n",
       "    }\n",
       "\n",
       "    .dataframe tbody tr th {\n",
       "        vertical-align: top;\n",
       "    }\n",
       "</style>\n",
       "<table border=\"1\" class=\"dataframe\">\n",
       "  <thead>\n",
       "    <tr style=\"text-align: right;\">\n",
       "      <th></th>\n",
       "      <th>color</th>\n",
       "      <th>count</th>\n",
       "    </tr>\n",
       "  </thead>\n",
       "  <tbody>\n",
       "    <tr>\n",
       "      <th>5</th>\n",
       "      <td>I</td>\n",
       "      <td>369</td>\n",
       "    </tr>\n",
       "    <tr>\n",
       "      <th>3</th>\n",
       "      <td>G</td>\n",
       "      <td>333</td>\n",
       "    </tr>\n",
       "    <tr>\n",
       "      <th>4</th>\n",
       "      <td>H</td>\n",
       "      <td>319</td>\n",
       "    </tr>\n",
       "    <tr>\n",
       "      <th>2</th>\n",
       "      <td>F</td>\n",
       "      <td>232</td>\n",
       "    </tr>\n",
       "    <tr>\n",
       "      <th>1</th>\n",
       "      <td>E</td>\n",
       "      <td>161</td>\n",
       "    </tr>\n",
       "    <tr>\n",
       "      <th>6</th>\n",
       "      <td>J</td>\n",
       "      <td>121</td>\n",
       "    </tr>\n",
       "    <tr>\n",
       "      <th>0</th>\n",
       "      <td>D</td>\n",
       "      <td>120</td>\n",
       "    </tr>\n",
       "  </tbody>\n",
       "</table>\n",
       "</div>"
      ],
      "text/plain": [
       "  color  count\n",
       "5     I    369\n",
       "3     G    333\n",
       "4     H    319\n",
       "2     F    232\n",
       "1     E    161\n",
       "6     J    121\n",
       "0     D    120"
      ]
     },
     "execution_count": 22,
     "metadata": {},
     "output_type": "execute_result"
    }
   ],
   "source": [
    "x = data[['color', 'price']].loc[data['price'] > 15000].groupby(['color'], as_index=False).count()\\\n",
    ".sort_values(by='price', ascending=False)\n",
    "\n",
    "x.columns = ['color', 'count']\n",
    "x"
   ]
  },
  {
   "cell_type": "markdown",
   "metadata": {},
   "source": [
    "4.3% of J colored diamonds cost more than $15000, while 1.6% of E colored diamonds (second best) fall into the same price range\n",
    "\n",
    "Both of these observations explain why J colored diamonds have higher average value than E or D colored diamonds, but visualization will make it more clear."
   ]
  },
  {
   "cell_type": "code",
   "execution_count": 23,
   "metadata": {},
   "outputs": [
    {
     "data": {
      "text/plain": [
       "<seaborn.axisgrid.FacetGrid at 0xc0da10cd68>"
      ]
     },
     "execution_count": 23,
     "metadata": {},
     "output_type": "execute_result"
    },
    {
     "data": {
      "image/png": "[encoded data removed]",
      "text/plain": [
       "<matplotlib.figure.Figure at 0xc0da10cef0>"
      ]
     },
     "metadata": {},
     "output_type": "display_data"
    }
   ],
   "source": [
    "g = sns.FacetGrid(data, col='color')\n",
    "g.map(plt.hist, 'x', bins=10)"
   ]
  },
  {
   "cell_type": "code",
   "execution_count": 24,
   "metadata": {},
   "outputs": [
    {
     "data": {
      "text/plain": [
       "<seaborn.axisgrid.FacetGrid at 0xc0da885588>"
      ]
     },
     "execution_count": 24,
     "metadata": {},
     "output_type": "execute_result"
    },
    {
     "data": {
      "image/png": "[encoded data removed]",
      "text/plain": [
       "<matplotlib.figure.Figure at 0xc0da816a20>"
      ]
     },
     "metadata": {},
     "output_type": "display_data"
    }
   ],
   "source": [
    "g = sns.FacetGrid(data, col='color')\n",
    "g.map(plt.hist, 'y', bins=10)"
   ]
  },
  {
   "cell_type": "code",
   "execution_count": 25,
   "metadata": {},
   "outputs": [
    {
     "data": {
      "text/plain": [
       "<seaborn.axisgrid.FacetGrid at 0xc0daf20240>"
      ]
     },
     "execution_count": 25,
     "metadata": {},
     "output_type": "execute_result"
    },
    {
     "data": {
      "image/png": "[encoded data removed]",
      "text/plain": [
       "<matplotlib.figure.Figure at 0xc0daf205f8>"
      ]
     },
     "metadata": {},
     "output_type": "display_data"
    }
   ],
   "source": [
    "g = sns.FacetGrid(data, col='color')\n",
    "g.map(plt.hist, 'z', bins=10)"
   ]
  },
  {
   "cell_type": "code",
   "execution_count": 26,
   "metadata": {},
   "outputs": [
    {
     "data": {
      "text/plain": [
       "<seaborn.axisgrid.FacetGrid at 0xc0dc68bc88>"
      ]
     },
     "execution_count": 26,
     "metadata": {},
     "output_type": "execute_result"
    },
    {
     "data": {
      "image/png": "[encoded data removed]",
      "text/plain": [
       "<matplotlib.figure.Figure at 0xc0dc68bb38>"
      ]
     },
     "metadata": {},
     "output_type": "display_data"
    }
   ],
   "source": [
    "g = sns.FacetGrid(data, col='color')\n",
    "g.map(plt.hist, 'price', bins=10)"
   ]
  },
  {
   "cell_type": "markdown",
   "metadata": {},
   "source": [
    "The above plots show that most of the D and E colored diamonds have below average x, y and z, while most of the J colored diamonds have above average x, y and z and as we earlier saw, way bigger percentage of J colored diamonds have high price (> \\$5000) than E or D colored ones"
   ]
  },
  {
   "cell_type": "code",
   "execution_count": 27,
   "metadata": {},
   "outputs": [
    {
     "data": {
      "text/html": [
       "<div>\n",
       "<style>\n",
       "    .dataframe thead tr:only-child th {\n",
       "        text-align: right;\n",
       "    }\n",
       "\n",
       "    .dataframe thead th {\n",
       "        text-align: left;\n",
       "    }\n",
       "\n",
       "    .dataframe tbody tr th {\n",
       "        vertical-align: top;\n",
       "    }\n",
       "</style>\n",
       "<table border=\"1\" class=\"dataframe\">\n",
       "  <thead>\n",
       "    <tr style=\"text-align: right;\">\n",
       "      <th></th>\n",
       "      <th>clarity</th>\n",
       "      <th>price</th>\n",
       "    </tr>\n",
       "  </thead>\n",
       "  <tbody>\n",
       "    <tr>\n",
       "      <th>3</th>\n",
       "      <td>SI2</td>\n",
       "      <td>5063.028606</td>\n",
       "    </tr>\n",
       "    <tr>\n",
       "      <th>2</th>\n",
       "      <td>SI1</td>\n",
       "      <td>3996.001148</td>\n",
       "    </tr>\n",
       "    <tr>\n",
       "      <th>5</th>\n",
       "      <td>VS2</td>\n",
       "      <td>3924.989395</td>\n",
       "    </tr>\n",
       "    <tr>\n",
       "      <th>0</th>\n",
       "      <td>I1</td>\n",
       "      <td>3924.168691</td>\n",
       "    </tr>\n",
       "    <tr>\n",
       "      <th>4</th>\n",
       "      <td>VS1</td>\n",
       "      <td>3839.455391</td>\n",
       "    </tr>\n",
       "    <tr>\n",
       "      <th>7</th>\n",
       "      <td>VVS2</td>\n",
       "      <td>3283.737071</td>\n",
       "    </tr>\n",
       "    <tr>\n",
       "      <th>1</th>\n",
       "      <td>IF</td>\n",
       "      <td>2864.839106</td>\n",
       "    </tr>\n",
       "    <tr>\n",
       "      <th>6</th>\n",
       "      <td>VVS1</td>\n",
       "      <td>2523.114637</td>\n",
       "    </tr>\n",
       "  </tbody>\n",
       "</table>\n",
       "</div>"
      ],
      "text/plain": [
       "  clarity        price\n",
       "3     SI2  5063.028606\n",
       "2     SI1  3996.001148\n",
       "5     VS2  3924.989395\n",
       "0      I1  3924.168691\n",
       "4     VS1  3839.455391\n",
       "7    VVS2  3283.737071\n",
       "1      IF  2864.839106\n",
       "6    VVS1  2523.114637"
      ]
     },
     "execution_count": 27,
     "metadata": {},
     "output_type": "execute_result"
    }
   ],
   "source": [
    "data[['clarity', 'price']].groupby(['clarity'], as_index=False).mean().sort_values(by='price', ascending=False)"
   ]
  },
  {
   "cell_type": "markdown",
   "metadata": {},
   "source": [
    "With clarity we also didn't get what would be the expected result. SI2 (second worst) has the highest average price, while VVS1 (second best) has the lowest average price (twice as low as SI2).\n",
    "\n",
    "There also is seemingly no correlation with these average prices and total counts of each clarity category. \n",
    "\n",
    "Let's inspect low and high price ranges as before."
   ]
  },
  {
   "cell_type": "code",
   "execution_count": 28,
   "metadata": {},
   "outputs": [
    {
     "data": {
      "text/html": [
       "<div>\n",
       "<style>\n",
       "    .dataframe thead tr:only-child th {\n",
       "        text-align: right;\n",
       "    }\n",
       "\n",
       "    .dataframe thead th {\n",
       "        text-align: left;\n",
       "    }\n",
       "\n",
       "    .dataframe tbody tr th {\n",
       "        vertical-align: top;\n",
       "    }\n",
       "</style>\n",
       "<table border=\"1\" class=\"dataframe\">\n",
       "  <thead>\n",
       "    <tr style=\"text-align: right;\">\n",
       "      <th></th>\n",
       "      <th>clarity</th>\n",
       "      <th>count</th>\n",
       "    </tr>\n",
       "  </thead>\n",
       "  <tbody>\n",
       "    <tr>\n",
       "      <th>5</th>\n",
       "      <td>VS2</td>\n",
       "      <td>4514</td>\n",
       "    </tr>\n",
       "    <tr>\n",
       "      <th>2</th>\n",
       "      <td>SI1</td>\n",
       "      <td>4279</td>\n",
       "    </tr>\n",
       "    <tr>\n",
       "      <th>4</th>\n",
       "      <td>VS1</td>\n",
       "      <td>3196</td>\n",
       "    </tr>\n",
       "    <tr>\n",
       "      <th>7</th>\n",
       "      <td>VVS2</td>\n",
       "      <td>2595</td>\n",
       "    </tr>\n",
       "    <tr>\n",
       "      <th>6</th>\n",
       "      <td>VVS1</td>\n",
       "      <td>2360</td>\n",
       "    </tr>\n",
       "    <tr>\n",
       "      <th>3</th>\n",
       "      <td>SI2</td>\n",
       "      <td>1741</td>\n",
       "    </tr>\n",
       "    <tr>\n",
       "      <th>1</th>\n",
       "      <td>IF</td>\n",
       "      <td>1199</td>\n",
       "    </tr>\n",
       "    <tr>\n",
       "      <th>0</th>\n",
       "      <td>I1</td>\n",
       "      <td>126</td>\n",
       "    </tr>\n",
       "  </tbody>\n",
       "</table>\n",
       "</div>"
      ],
      "text/plain": [
       "  clarity  count\n",
       "5     VS2   4514\n",
       "2     SI1   4279\n",
       "4     VS1   3196\n",
       "7    VVS2   2595\n",
       "6    VVS1   2360\n",
       "3     SI2   1741\n",
       "1      IF   1199\n",
       "0      I1    126"
      ]
     },
     "execution_count": 28,
     "metadata": {},
     "output_type": "execute_result"
    }
   ],
   "source": [
    "x = data[['clarity', 'price']].loc[data['price'] < 1500].groupby(['clarity'], as_index=False).count()\\\n",
    ".sort_values(by='price', ascending=False)\n",
    "\n",
    "x.columns = ['clarity', 'count']\n",
    "x"
   ]
  },
  {
   "cell_type": "markdown",
   "metadata": {},
   "source": [
    "18.9% of SI2 (second worst) clarity diamonds cost less than $1500, while as many as 64.6% of VVS1 clarity diamonds (second best) fall into the same price range. \n",
    "\n",
    "This is a huge difference and can explain the difference between price averages."
   ]
  },
  {
   "cell_type": "code",
   "execution_count": 29,
   "metadata": {},
   "outputs": [
    {
     "data": {
      "text/html": [
       "<div>\n",
       "<style>\n",
       "    .dataframe thead tr:only-child th {\n",
       "        text-align: right;\n",
       "    }\n",
       "\n",
       "    .dataframe thead th {\n",
       "        text-align: left;\n",
       "    }\n",
       "\n",
       "    .dataframe tbody tr th {\n",
       "        vertical-align: top;\n",
       "    }\n",
       "</style>\n",
       "<table border=\"1\" class=\"dataframe\">\n",
       "  <thead>\n",
       "    <tr style=\"text-align: right;\">\n",
       "      <th></th>\n",
       "      <th>clarity</th>\n",
       "      <th>count</th>\n",
       "    </tr>\n",
       "  </thead>\n",
       "  <tbody>\n",
       "    <tr>\n",
       "      <th>3</th>\n",
       "      <td>SI2</td>\n",
       "      <td>518</td>\n",
       "    </tr>\n",
       "    <tr>\n",
       "      <th>2</th>\n",
       "      <td>SI1</td>\n",
       "      <td>364</td>\n",
       "    </tr>\n",
       "    <tr>\n",
       "      <th>5</th>\n",
       "      <td>VS2</td>\n",
       "      <td>358</td>\n",
       "    </tr>\n",
       "    <tr>\n",
       "      <th>4</th>\n",
       "      <td>VS1</td>\n",
       "      <td>227</td>\n",
       "    </tr>\n",
       "    <tr>\n",
       "      <th>7</th>\n",
       "      <td>VVS2</td>\n",
       "      <td>78</td>\n",
       "    </tr>\n",
       "    <tr>\n",
       "      <th>1</th>\n",
       "      <td>IF</td>\n",
       "      <td>51</td>\n",
       "    </tr>\n",
       "    <tr>\n",
       "      <th>6</th>\n",
       "      <td>VVS1</td>\n",
       "      <td>50</td>\n",
       "    </tr>\n",
       "    <tr>\n",
       "      <th>0</th>\n",
       "      <td>I1</td>\n",
       "      <td>9</td>\n",
       "    </tr>\n",
       "  </tbody>\n",
       "</table>\n",
       "</div>"
      ],
      "text/plain": [
       "  clarity  count\n",
       "3     SI2    518\n",
       "2     SI1    364\n",
       "5     VS2    358\n",
       "4     VS1    227\n",
       "7    VVS2     78\n",
       "1      IF     51\n",
       "6    VVS1     50\n",
       "0      I1      9"
      ]
     },
     "execution_count": 29,
     "metadata": {},
     "output_type": "execute_result"
    }
   ],
   "source": [
    "x = data[['clarity', 'price']].loc[data['price'] > 15000].groupby(['clarity'], as_index=False).count()\\\n",
    ".sort_values(by='price', ascending=False)\n",
    "\n",
    "x.columns = ['clarity', 'count']\n",
    "x"
   ]
  },
  {
   "cell_type": "markdown",
   "metadata": {},
   "source": [
    "5.6% of SI2 (second worst) clarity diamonds cost more than \\$15000, while only 1.4% of VVS1 clarity diamonds (second best) fall into the same price range. Also if we look at the numbers, SI2 clarity diamonds are 31.2% of all the diamonds that cost more than $15000 \n",
    "\n",
    "This is also a really big difference considering how high the price range is\n",
    "\n",
    "Let's also visualize it"
   ]
  },
  {
   "cell_type": "code",
   "execution_count": 30,
   "metadata": {},
   "outputs": [
    {
     "data": {
      "text/plain": [
       "<seaborn.axisgrid.FacetGrid at 0xc0dce7a9e8>"
      ]
     },
     "execution_count": 30,
     "metadata": {},
     "output_type": "execute_result"
    },
    {
     "data": {
      "image/png": "[encoded data removed]",
      "text/plain": [
       "<matplotlib.figure.Figure at 0xc0dcddd978>"
      ]
     },
     "metadata": {},
     "output_type": "display_data"
    }
   ],
   "source": [
    "g = sns.FacetGrid(data, col='clarity')\n",
    "g.map(plt.hist, 'x', bins=10)"
   ]
  },
  {
   "cell_type": "code",
   "execution_count": 31,
   "metadata": {},
   "outputs": [
    {
     "data": {
      "text/plain": [
       "<seaborn.axisgrid.FacetGrid at 0xc0dcddd7f0>"
      ]
     },
     "execution_count": 31,
     "metadata": {},
     "output_type": "execute_result"
    },
    {
     "data": {
      "image/png": "[encoded data removed]",
      "text/plain": [
       "<matplotlib.figure.Figure at 0xc0d9b3be48>"
      ]
     },
     "metadata": {},
     "output_type": "display_data"
    }
   ],
   "source": [
    "g = sns.FacetGrid(data, col='clarity')\n",
    "g.map(plt.hist, 'y', bins=10)"
   ]
  },
  {
   "cell_type": "code",
   "execution_count": 32,
   "metadata": {},
   "outputs": [
    {
     "data": {
      "text/plain": [
       "<seaborn.axisgrid.FacetGrid at 0xc0de42cc88>"
      ]
     },
     "execution_count": 32,
     "metadata": {},
     "output_type": "execute_result"
    },
    {
     "data": {
      "image/png": "[encoded data removed]",
      "text/plain": [
       "<matplotlib.figure.Figure at 0xc0de42ca90>"
      ]
     },
     "metadata": {},
     "output_type": "display_data"
    }
   ],
   "source": [
    "g = sns.FacetGrid(data, col='clarity')\n",
    "g.map(plt.hist, 'z', bins=10)"
   ]
  },
  {
   "cell_type": "code",
   "execution_count": 33,
   "metadata": {},
   "outputs": [
    {
     "data": {
      "text/plain": [
       "<seaborn.axisgrid.FacetGrid at 0xc0deca2668>"
      ]
     },
     "execution_count": 33,
     "metadata": {},
     "output_type": "execute_result"
    },
    {
     "data": {
      "image/png": "[encoded data removed]",
      "text/plain": [
       "<matplotlib.figure.Figure at 0xc0deca2278>"
      ]
     },
     "metadata": {},
     "output_type": "display_data"
    }
   ],
   "source": [
    "g = sns.FacetGrid(data, col='clarity')\n",
    "g.map(plt.hist, 'price', bins=10)"
   ]
  },
  {
   "cell_type": "markdown",
   "metadata": {},
   "source": [
    "As in case of the other 2 features, most of the SI2 clarity diamonds have above average x, y and z, while most of the VVS1 clarity diamonds have below average x, y and z and as we earlier saw, way bigger percentage of SI2 clarity diamonds have high price (> \\$5000) than VVS1 clarity diamonds\n",
    "\n",
    "These feature pivotings made it clear that cut, color and clarity can't noticeably boost the price of a diamond on there own, if other features, mostly size indicating ones don't help\n",
    "\n",
    "I think it's safe to assume that size is more important of an indicator of the price, than cut, color and clarity"
   ]
  },
  {
   "cell_type": "markdown",
   "metadata": {},
   "source": [
    "#### How are all three of the categorical features correlated with price?"
   ]
  },
  {
   "cell_type": "code",
   "execution_count": 34,
   "metadata": {},
   "outputs": [
    {
     "data": {
      "text/plain": [
       "<seaborn.axisgrid.FacetGrid at 0xc0df572550>"
      ]
     },
     "execution_count": 34,
     "metadata": {},
     "output_type": "execute_result"
    },
    {
     "data": {
      "image/png": "[encoded data removed]",
      "text/plain": [
       "<matplotlib.figure.Figure at 0xc0df572588>"
      ]
     },
     "metadata": {},
     "output_type": "display_data"
    }
   ],
   "source": [
    "grid = sns.FacetGrid(data, row='color', col='cut', size=2.2, aspect=1.6)\n",
    "grid.map(sns.barplot, 'clarity', 'price', alpha=.5, ci=None, order=[\"SI2\", \"VS2\", \"VS1\", \"VVS2\", \"SI1\", \"I1\", \"VVS1\", \"IF\"])\n",
    "grid.add_legend()"
   ]
  },
  {
   "cell_type": "markdown",
   "metadata": {},
   "source": [
    "From above plots we can see that these combinations of clarity, color and cut: IF & D & Very Good, IF & D & Good, IF & D & Premium and I1 & J & Ideal have the highest average price. This makes sense, because D is the best color, IF is the best type of clarity, Ideal and Premium are the best and second best types of cut\n",
    "\n",
    "The fact that the combination IF & D & Ideal has onlya little above average price, considering that all three are best possible in their features, shows how much size influences the price"
   ]
  },
  {
   "cell_type": "markdown",
   "metadata": {},
   "source": [
    "#### How are numerical features correlated with price?"
   ]
  },
  {
   "cell_type": "code",
   "execution_count": 35,
   "metadata": {},
   "outputs": [
    {
     "data": {
      "text/plain": [
       "<seaborn.axisgrid.JointGrid at 0xc0df5729b0>"
      ]
     },
     "execution_count": 35,
     "metadata": {},
     "output_type": "execute_result"
    },
    {
     "data": {
      "image/png": "[encoded data removed]",
      "text/plain": [
       "<matplotlib.figure.Figure at 0xc0df572a58>"
      ]
     },
     "metadata": {},
     "output_type": "display_data"
    }
   ],
   "source": [
    "sns.jointplot('x', 'price', data, color='g')"
   ]
  },
  {
   "cell_type": "markdown",
   "metadata": {},
   "source": [
    "* length of the diamond mostly behaves as we would have expected: the more the length, the more the price\n",
    "* most of the data has length approx. 4.2mm \n",
    "* most of the data has price approx. \\$1000"
   ]
  },
  {
   "cell_type": "code",
   "execution_count": 36,
   "metadata": {},
   "outputs": [
    {
     "data": {
      "text/plain": [
       "<seaborn.axisgrid.JointGrid at 0xc0e27ebeb8>"
      ]
     },
     "execution_count": 36,
     "metadata": {},
     "output_type": "execute_result"
    },
    {
     "data": {
      "image/png": "[encoded data removed]",
      "text/plain": [
       "<matplotlib.figure.Figure at 0xc0e286de48>"
      ]
     },
     "metadata": {},
     "output_type": "display_data"
    }
   ],
   "source": [
    "sns.jointplot('y', 'price', data, color='g')"
   ]
  },
  {
   "cell_type": "markdown",
   "metadata": {},
   "source": [
    "* width of the diamond mostly behaves as we would have expected: the more the width, the more the price\n",
    "* most of the data has width approx. 5mm"
   ]
  },
  {
   "cell_type": "code",
   "execution_count": 37,
   "metadata": {},
   "outputs": [
    {
     "data": {
      "text/plain": [
       "<seaborn.axisgrid.JointGrid at 0xc0e3101c18>"
      ]
     },
     "execution_count": 37,
     "metadata": {},
     "output_type": "execute_result"
    },
    {
     "data": {
      "image/png": "[encoded data removed]",
      "text/plain": [
       "<matplotlib.figure.Figure at 0xc0e3101b38>"
      ]
     },
     "metadata": {},
     "output_type": "display_data"
    }
   ],
   "source": [
    "sns.jointplot('z', 'price', data, color='g')"
   ]
  },
  {
   "cell_type": "markdown",
   "metadata": {},
   "source": [
    "* z (depth) of the diamond mostly behaves as we would have expected: the more the depth, the more the price\n",
    "* most of the data has z approx. 2.5mm\n",
    "\n",
    "of course in all 3 cases (x, y, z) there are many samples that, for example, have more length and less price than some other examples, but the plot shows that as we move to the right on the x axes, lower and upper bounds of the data on the y axes both unequivocally increase. "
   ]
  },
  {
   "cell_type": "code",
   "execution_count": 38,
   "metadata": {},
   "outputs": [
    {
     "data": {
      "text/plain": [
       "<seaborn.axisgrid.JointGrid at 0xc0e286d400>"
      ]
     },
     "execution_count": 38,
     "metadata": {},
     "output_type": "execute_result"
    },
    {
     "data": {
      "image/png": "[encoded data removed]",
      "text/plain": [
       "<matplotlib.figure.Figure at 0xc0e31267f0>"
      ]
     },
     "metadata": {},
     "output_type": "display_data"
    }
   ],
   "source": [
    "sns.jointplot('depth', 'price', data, color='g')"
   ]
  },
  {
   "cell_type": "markdown",
   "metadata": {},
   "source": [
    "* it's not unequivocal from the plot if high depth percentage is better or vice versa, it seems that medium depth percentage is the best \n",
    "* by researching I found out that wellness of this percentage depends on the shape of a diamond, which can explain the first observation\n",
    "* most of the data has total depth percentage of approx. 63%"
   ]
  },
  {
   "cell_type": "code",
   "execution_count": 39,
   "metadata": {},
   "outputs": [
    {
     "data": {
      "text/plain": [
       "<seaborn.axisgrid.JointGrid at 0xc0e34c0eb8>"
      ]
     },
     "execution_count": 39,
     "metadata": {},
     "output_type": "execute_result"
    },
    {
     "data": {
      "image/png": "[encoded data removed]",
      "text/plain": [
       "<matplotlib.figure.Figure at 0xc0e34c0978>"
      ]
     },
     "metadata": {},
     "output_type": "display_data"
    }
   ],
   "source": [
    "sns.jointplot('table', 'price', data, color='g')"
   ]
  },
  {
   "cell_type": "markdown",
   "metadata": {},
   "source": [
    "* it's not unequivocal from the plot if high table percentage is better or vice versa, it seems that medium table percentage is the best \n",
    "* by researching I found out that wellness of this percentage depends on the crown and upper gridle facet of a diamond, so it won't be the same for every diamond, which can explain the first observation\n",
    "* most of the data has table percentage of approx. 58%"
   ]
  },
  {
   "cell_type": "code",
   "execution_count": 40,
   "metadata": {},
   "outputs": [
    {
     "data": {
      "text/plain": [
       "<seaborn.axisgrid.JointGrid at 0xc0e3492b70>"
      ]
     },
     "execution_count": 40,
     "metadata": {},
     "output_type": "execute_result"
    },
    {
     "data": {
      "image/png": "[encoded data removed]",
      "text/plain": [
       "<matplotlib.figure.Figure at 0xc0e3483d30>"
      ]
     },
     "metadata": {},
     "output_type": "display_data"
    }
   ],
   "source": [
    "sns.jointplot('carat', 'price', data, color='g')"
   ]
  },
  {
   "cell_type": "markdown",
   "metadata": {},
   "source": [
    "* carat (weight) of the diamond mostly behaves as we would have expected: the more the weight, the more the price\n",
    "* most of the data has carat approx. 0.3\n",
    "* as with x, y and z there are many samples that weigh more but cost less than some other examples, but the plot shows that as we move to the right on the x axes, lower and upper bounds of the data on the y axes both unequivocally increase. "
   ]
  },
  {
   "cell_type": "markdown",
   "metadata": {},
   "source": [
    "Every feature affects price in some way, so it's better if we keep them all, for better results in predicting, but I don't see any point in adding more features, as we can't get any additional, useful characteristic of a diamond from these features "
   ]
  },
  {
   "cell_type": "markdown",
   "metadata": {},
   "source": [
    "### Learning\n",
    "\n",
    "First we need to handle string features (cut, color and clarity), because most of the learning models have trouble dealing with them\n",
    "\n",
    "All of them are categorical, so we just need to index them"
   ]
  },
  {
   "cell_type": "code",
   "execution_count": 41,
   "metadata": {},
   "outputs": [
    {
     "data": {
      "text/html": [
       "<div>\n",
       "<style>\n",
       "    .dataframe thead tr:only-child th {\n",
       "        text-align: right;\n",
       "    }\n",
       "\n",
       "    .dataframe thead th {\n",
       "        text-align: left;\n",
       "    }\n",
       "\n",
       "    .dataframe tbody tr th {\n",
       "        vertical-align: top;\n",
       "    }\n",
       "</style>\n",
       "<table border=\"1\" class=\"dataframe\">\n",
       "  <thead>\n",
       "    <tr style=\"text-align: right;\">\n",
       "      <th></th>\n",
       "      <th>carat</th>\n",
       "      <th>cut</th>\n",
       "      <th>color</th>\n",
       "      <th>clarity</th>\n",
       "      <th>depth</th>\n",
       "      <th>table</th>\n",
       "      <th>price</th>\n",
       "      <th>x</th>\n",
       "      <th>y</th>\n",
       "      <th>z</th>\n",
       "    </tr>\n",
       "  </thead>\n",
       "  <tbody>\n",
       "    <tr>\n",
       "      <th>0</th>\n",
       "      <td>0.23</td>\n",
       "      <td>0</td>\n",
       "      <td>E</td>\n",
       "      <td>SI2</td>\n",
       "      <td>61.5</td>\n",
       "      <td>55.0</td>\n",
       "      <td>326</td>\n",
       "      <td>3.95</td>\n",
       "      <td>3.98</td>\n",
       "      <td>2.43</td>\n",
       "    </tr>\n",
       "    <tr>\n",
       "      <th>1</th>\n",
       "      <td>0.21</td>\n",
       "      <td>1</td>\n",
       "      <td>E</td>\n",
       "      <td>SI1</td>\n",
       "      <td>59.8</td>\n",
       "      <td>61.0</td>\n",
       "      <td>326</td>\n",
       "      <td>3.89</td>\n",
       "      <td>3.84</td>\n",
       "      <td>2.31</td>\n",
       "    </tr>\n",
       "    <tr>\n",
       "      <th>2</th>\n",
       "      <td>0.23</td>\n",
       "      <td>3</td>\n",
       "      <td>E</td>\n",
       "      <td>VS1</td>\n",
       "      <td>56.9</td>\n",
       "      <td>65.0</td>\n",
       "      <td>327</td>\n",
       "      <td>4.05</td>\n",
       "      <td>4.07</td>\n",
       "      <td>2.31</td>\n",
       "    </tr>\n",
       "    <tr>\n",
       "      <th>3</th>\n",
       "      <td>0.29</td>\n",
       "      <td>1</td>\n",
       "      <td>I</td>\n",
       "      <td>VS2</td>\n",
       "      <td>62.4</td>\n",
       "      <td>58.0</td>\n",
       "      <td>334</td>\n",
       "      <td>4.20</td>\n",
       "      <td>4.23</td>\n",
       "      <td>2.63</td>\n",
       "    </tr>\n",
       "    <tr>\n",
       "      <th>4</th>\n",
       "      <td>0.31</td>\n",
       "      <td>3</td>\n",
       "      <td>J</td>\n",
       "      <td>SI2</td>\n",
       "      <td>63.3</td>\n",
       "      <td>58.0</td>\n",
       "      <td>335</td>\n",
       "      <td>4.34</td>\n",
       "      <td>4.35</td>\n",
       "      <td>2.75</td>\n",
       "    </tr>\n",
       "  </tbody>\n",
       "</table>\n",
       "</div>"
      ],
      "text/plain": [
       "   carat  cut color clarity  depth  table  price     x     y     z\n",
       "0   0.23    0     E     SI2   61.5   55.0    326  3.95  3.98  2.43\n",
       "1   0.21    1     E     SI1   59.8   61.0    326  3.89  3.84  2.31\n",
       "2   0.23    3     E     VS1   56.9   65.0    327  4.05  4.07  2.31\n",
       "3   0.29    1     I     VS2   62.4   58.0    334  4.20  4.23  2.63\n",
       "4   0.31    3     J     SI2   63.3   58.0    335  4.34  4.35  2.75"
      ]
     },
     "execution_count": 41,
     "metadata": {},
     "output_type": "execute_result"
    }
   ],
   "source": [
    "data['cut'] = data['cut'].map( {'Ideal': 0, 'Premium': 1, 'Very Good': 2, 'Good': 3, 'Fair': 4} ).astype(int)\n",
    "\n",
    "data.head()"
   ]
  },
  {
   "cell_type": "code",
   "execution_count": 42,
   "metadata": {},
   "outputs": [
    {
     "data": {
      "text/html": [
       "<div>\n",
       "<style>\n",
       "    .dataframe thead tr:only-child th {\n",
       "        text-align: right;\n",
       "    }\n",
       "\n",
       "    .dataframe thead th {\n",
       "        text-align: left;\n",
       "    }\n",
       "\n",
       "    .dataframe tbody tr th {\n",
       "        vertical-align: top;\n",
       "    }\n",
       "</style>\n",
       "<table border=\"1\" class=\"dataframe\">\n",
       "  <thead>\n",
       "    <tr style=\"text-align: right;\">\n",
       "      <th></th>\n",
       "      <th>carat</th>\n",
       "      <th>cut</th>\n",
       "      <th>color</th>\n",
       "      <th>clarity</th>\n",
       "      <th>depth</th>\n",
       "      <th>table</th>\n",
       "      <th>price</th>\n",
       "      <th>x</th>\n",
       "      <th>y</th>\n",
       "      <th>z</th>\n",
       "    </tr>\n",
       "  </thead>\n",
       "  <tbody>\n",
       "    <tr>\n",
       "      <th>0</th>\n",
       "      <td>0.23</td>\n",
       "      <td>0</td>\n",
       "      <td>1</td>\n",
       "      <td>SI2</td>\n",
       "      <td>61.5</td>\n",
       "      <td>55.0</td>\n",
       "      <td>326</td>\n",
       "      <td>3.95</td>\n",
       "      <td>3.98</td>\n",
       "      <td>2.43</td>\n",
       "    </tr>\n",
       "    <tr>\n",
       "      <th>1</th>\n",
       "      <td>0.21</td>\n",
       "      <td>1</td>\n",
       "      <td>1</td>\n",
       "      <td>SI1</td>\n",
       "      <td>59.8</td>\n",
       "      <td>61.0</td>\n",
       "      <td>326</td>\n",
       "      <td>3.89</td>\n",
       "      <td>3.84</td>\n",
       "      <td>2.31</td>\n",
       "    </tr>\n",
       "    <tr>\n",
       "      <th>2</th>\n",
       "      <td>0.23</td>\n",
       "      <td>3</td>\n",
       "      <td>1</td>\n",
       "      <td>VS1</td>\n",
       "      <td>56.9</td>\n",
       "      <td>65.0</td>\n",
       "      <td>327</td>\n",
       "      <td>4.05</td>\n",
       "      <td>4.07</td>\n",
       "      <td>2.31</td>\n",
       "    </tr>\n",
       "    <tr>\n",
       "      <th>3</th>\n",
       "      <td>0.29</td>\n",
       "      <td>1</td>\n",
       "      <td>5</td>\n",
       "      <td>VS2</td>\n",
       "      <td>62.4</td>\n",
       "      <td>58.0</td>\n",
       "      <td>334</td>\n",
       "      <td>4.20</td>\n",
       "      <td>4.23</td>\n",
       "      <td>2.63</td>\n",
       "    </tr>\n",
       "    <tr>\n",
       "      <th>4</th>\n",
       "      <td>0.31</td>\n",
       "      <td>3</td>\n",
       "      <td>6</td>\n",
       "      <td>SI2</td>\n",
       "      <td>63.3</td>\n",
       "      <td>58.0</td>\n",
       "      <td>335</td>\n",
       "      <td>4.34</td>\n",
       "      <td>4.35</td>\n",
       "      <td>2.75</td>\n",
       "    </tr>\n",
       "  </tbody>\n",
       "</table>\n",
       "</div>"
      ],
      "text/plain": [
       "   carat  cut  color clarity  depth  table  price     x     y     z\n",
       "0   0.23    0      1     SI2   61.5   55.0    326  3.95  3.98  2.43\n",
       "1   0.21    1      1     SI1   59.8   61.0    326  3.89  3.84  2.31\n",
       "2   0.23    3      1     VS1   56.9   65.0    327  4.05  4.07  2.31\n",
       "3   0.29    1      5     VS2   62.4   58.0    334  4.20  4.23  2.63\n",
       "4   0.31    3      6     SI2   63.3   58.0    335  4.34  4.35  2.75"
      ]
     },
     "execution_count": 42,
     "metadata": {},
     "output_type": "execute_result"
    }
   ],
   "source": [
    "data['color'] = data['color'].map( {'G': 0, 'E': 1, 'F': 2, 'H': 3, 'D': 4, 'I': 5, 'J': 6} ).astype(int)\n",
    "\n",
    "data.head()"
   ]
  },
  {
   "cell_type": "code",
   "execution_count": 43,
   "metadata": {},
   "outputs": [
    {
     "data": {
      "text/html": [
       "<div>\n",
       "<style>\n",
       "    .dataframe thead tr:only-child th {\n",
       "        text-align: right;\n",
       "    }\n",
       "\n",
       "    .dataframe thead th {\n",
       "        text-align: left;\n",
       "    }\n",
       "\n",
       "    .dataframe tbody tr th {\n",
       "        vertical-align: top;\n",
       "    }\n",
       "</style>\n",
       "<table border=\"1\" class=\"dataframe\">\n",
       "  <thead>\n",
       "    <tr style=\"text-align: right;\">\n",
       "      <th></th>\n",
       "      <th>carat</th>\n",
       "      <th>cut</th>\n",
       "      <th>color</th>\n",
       "      <th>clarity</th>\n",
       "      <th>depth</th>\n",
       "      <th>table</th>\n",
       "      <th>price</th>\n",
       "      <th>x</th>\n",
       "      <th>y</th>\n",
       "      <th>z</th>\n",
       "    </tr>\n",
       "  </thead>\n",
       "  <tbody>\n",
       "    <tr>\n",
       "      <th>0</th>\n",
       "      <td>0.23</td>\n",
       "      <td>0</td>\n",
       "      <td>1</td>\n",
       "      <td>2</td>\n",
       "      <td>61.5</td>\n",
       "      <td>55.0</td>\n",
       "      <td>326</td>\n",
       "      <td>3.95</td>\n",
       "      <td>3.98</td>\n",
       "      <td>2.43</td>\n",
       "    </tr>\n",
       "    <tr>\n",
       "      <th>1</th>\n",
       "      <td>0.21</td>\n",
       "      <td>1</td>\n",
       "      <td>1</td>\n",
       "      <td>0</td>\n",
       "      <td>59.8</td>\n",
       "      <td>61.0</td>\n",
       "      <td>326</td>\n",
       "      <td>3.89</td>\n",
       "      <td>3.84</td>\n",
       "      <td>2.31</td>\n",
       "    </tr>\n",
       "    <tr>\n",
       "      <th>2</th>\n",
       "      <td>0.23</td>\n",
       "      <td>3</td>\n",
       "      <td>1</td>\n",
       "      <td>3</td>\n",
       "      <td>56.9</td>\n",
       "      <td>65.0</td>\n",
       "      <td>327</td>\n",
       "      <td>4.05</td>\n",
       "      <td>4.07</td>\n",
       "      <td>2.31</td>\n",
       "    </tr>\n",
       "    <tr>\n",
       "      <th>3</th>\n",
       "      <td>0.29</td>\n",
       "      <td>1</td>\n",
       "      <td>5</td>\n",
       "      <td>1</td>\n",
       "      <td>62.4</td>\n",
       "      <td>58.0</td>\n",
       "      <td>334</td>\n",
       "      <td>4.20</td>\n",
       "      <td>4.23</td>\n",
       "      <td>2.63</td>\n",
       "    </tr>\n",
       "    <tr>\n",
       "      <th>4</th>\n",
       "      <td>0.31</td>\n",
       "      <td>3</td>\n",
       "      <td>6</td>\n",
       "      <td>2</td>\n",
       "      <td>63.3</td>\n",
       "      <td>58.0</td>\n",
       "      <td>335</td>\n",
       "      <td>4.34</td>\n",
       "      <td>4.35</td>\n",
       "      <td>2.75</td>\n",
       "    </tr>\n",
       "  </tbody>\n",
       "</table>\n",
       "</div>"
      ],
      "text/plain": [
       "   carat  cut  color  clarity  depth  table  price     x     y     z\n",
       "0   0.23    0      1        2   61.5   55.0    326  3.95  3.98  2.43\n",
       "1   0.21    1      1        0   59.8   61.0    326  3.89  3.84  2.31\n",
       "2   0.23    3      1        3   56.9   65.0    327  4.05  4.07  2.31\n",
       "3   0.29    1      5        1   62.4   58.0    334  4.20  4.23  2.63\n",
       "4   0.31    3      6        2   63.3   58.0    335  4.34  4.35  2.75"
      ]
     },
     "execution_count": 43,
     "metadata": {},
     "output_type": "execute_result"
    }
   ],
   "source": [
    "data['clarity'] = data['clarity'].map( {'SI1': 0, 'VS2': 1, 'SI2': 2, 'VS1': 3, 'VVS2': 4, 'VVS1': 5, 'IF': 6, 'I1': 7} )\\\n",
    "    .astype(int)\n",
    "\n",
    "data.head()"
   ]
  },
  {
   "cell_type": "code",
   "execution_count": 44,
   "metadata": {},
   "outputs": [
    {
     "name": "stdout",
     "output_type": "stream",
     "text": [
      "<class 'pandas.core.frame.DataFrame'>\n",
      "RangeIndex: 53940 entries, 0 to 53939\n",
      "Data columns (total 10 columns):\n",
      "carat      53940 non-null float64\n",
      "cut        53940 non-null int32\n",
      "color      53940 non-null int32\n",
      "clarity    53940 non-null int32\n",
      "depth      53940 non-null float64\n",
      "table      53940 non-null float64\n",
      "price      53940 non-null int64\n",
      "x          53940 non-null float64\n",
      "y          53940 non-null float64\n",
      "z          53940 non-null float64\n",
      "dtypes: float64(6), int32(3), int64(1)\n",
      "memory usage: 3.5 MB\n"
     ]
    }
   ],
   "source": [
    "data.info()"
   ]
  },
  {
   "cell_type": "markdown",
   "metadata": {},
   "source": [
    "Now every feature is either float or integer\n",
    "\n",
    "Normalizing numeric features will most probably speed up training, so let's normalize them"
   ]
  },
  {
   "cell_type": "code",
   "execution_count": 45,
   "metadata": {
    "collapsed": true
   },
   "outputs": [],
   "source": [
    "data['x'] -= np.mean(data['x'])\n",
    "data['x'] /= np.std(data['x'])"
   ]
  },
  {
   "cell_type": "code",
   "execution_count": 46,
   "metadata": {
    "collapsed": true
   },
   "outputs": [],
   "source": [
    "data['y'] -= np.mean(data['y'])\n",
    "data['y'] /= np.std(data['y'])"
   ]
  },
  {
   "cell_type": "code",
   "execution_count": 47,
   "metadata": {
    "collapsed": true
   },
   "outputs": [],
   "source": [
    "data['z'] -= np.mean(data['z'])\n",
    "data['z'] /= np.std(data['z'])"
   ]
  },
  {
   "cell_type": "code",
   "execution_count": 48,
   "metadata": {
    "collapsed": true
   },
   "outputs": [],
   "source": [
    "data['carat'] -= np.mean(data['carat'])\n",
    "data['carat'] /= np.std(data['carat'])"
   ]
  },
  {
   "cell_type": "code",
   "execution_count": 49,
   "metadata": {
    "collapsed": true
   },
   "outputs": [],
   "source": [
    "data['depth'] -= np.mean(data['depth'])\n",
    "data['depth'] /= np.std(data['depth'])"
   ]
  },
  {
   "cell_type": "code",
   "execution_count": 50,
   "metadata": {
    "collapsed": true
   },
   "outputs": [],
   "source": [
    "data['table'] -= np.mean(data['table'])\n",
    "data['table'] /= np.std(data['table'])"
   ]
  },
  {
   "cell_type": "code",
   "execution_count": 51,
   "metadata": {},
   "outputs": [
    {
     "data": {
      "text/html": [
       "<div>\n",
       "<style>\n",
       "    .dataframe thead tr:only-child th {\n",
       "        text-align: right;\n",
       "    }\n",
       "\n",
       "    .dataframe thead th {\n",
       "        text-align: left;\n",
       "    }\n",
       "\n",
       "    .dataframe tbody tr th {\n",
       "        vertical-align: top;\n",
       "    }\n",
       "</style>\n",
       "<table border=\"1\" class=\"dataframe\">\n",
       "  <thead>\n",
       "    <tr style=\"text-align: right;\">\n",
       "      <th></th>\n",
       "      <th>carat</th>\n",
       "      <th>cut</th>\n",
       "      <th>color</th>\n",
       "      <th>clarity</th>\n",
       "      <th>depth</th>\n",
       "      <th>table</th>\n",
       "      <th>price</th>\n",
       "      <th>x</th>\n",
       "      <th>y</th>\n",
       "      <th>z</th>\n",
       "    </tr>\n",
       "  </thead>\n",
       "  <tbody>\n",
       "    <tr>\n",
       "      <th>count</th>\n",
       "      <td>5.394000e+04</td>\n",
       "      <td>53940.000000</td>\n",
       "      <td>53940.000000</td>\n",
       "      <td>53940.000000</td>\n",
       "      <td>5.394000e+04</td>\n",
       "      <td>5.394000e+04</td>\n",
       "      <td>53940.000000</td>\n",
       "      <td>5.394000e+04</td>\n",
       "      <td>5.394000e+04</td>\n",
       "      <td>5.394000e+04</td>\n",
       "    </tr>\n",
       "    <tr>\n",
       "      <th>mean</th>\n",
       "      <td>6.973409e-14</td>\n",
       "      <td>1.095903</td>\n",
       "      <td>2.314627</td>\n",
       "      <td>2.032351</td>\n",
       "      <td>5.462013e-13</td>\n",
       "      <td>-1.241983e-14</td>\n",
       "      <td>3932.799722</td>\n",
       "      <td>1.095639e-13</td>\n",
       "      <td>7.797945e-14</td>\n",
       "      <td>-2.599696e-13</td>\n",
       "    </tr>\n",
       "    <tr>\n",
       "      <th>std</th>\n",
       "      <td>1.000009e+00</td>\n",
       "      <td>1.116600</td>\n",
       "      <td>1.820448</td>\n",
       "      <td>1.790676</td>\n",
       "      <td>1.000009e+00</td>\n",
       "      <td>1.000009e+00</td>\n",
       "      <td>3989.439738</td>\n",
       "      <td>1.000009e+00</td>\n",
       "      <td>1.000009e+00</td>\n",
       "      <td>1.000009e+00</td>\n",
       "    </tr>\n",
       "    <tr>\n",
       "      <th>min</th>\n",
       "      <td>-1.261458e+00</td>\n",
       "      <td>0.000000</td>\n",
       "      <td>0.000000</td>\n",
       "      <td>0.000000</td>\n",
       "      <td>-1.308760e+01</td>\n",
       "      <td>-6.470073e+00</td>\n",
       "      <td>326.000000</td>\n",
       "      <td>-5.109120e+00</td>\n",
       "      <td>-5.020931e+00</td>\n",
       "      <td>-5.014556e+00</td>\n",
       "    </tr>\n",
       "    <tr>\n",
       "      <th>25%</th>\n",
       "      <td>-8.395232e-01</td>\n",
       "      <td>0.000000</td>\n",
       "      <td>1.000000</td>\n",
       "      <td>1.000000</td>\n",
       "      <td>-5.231053e-01</td>\n",
       "      <td>-6.521385e-01</td>\n",
       "      <td>950.000000</td>\n",
       "      <td>-9.103248e-01</td>\n",
       "      <td>-8.882800e-01</td>\n",
       "      <td>-8.909461e-01</td>\n",
       "    </tr>\n",
       "    <tr>\n",
       "      <th>50%</th>\n",
       "      <td>-2.066210e-01</td>\n",
       "      <td>1.000000</td>\n",
       "      <td>2.000000</td>\n",
       "      <td>2.000000</td>\n",
       "      <td>3.531678e-02</td>\n",
       "      <td>-2.046051e-01</td>\n",
       "      <td>2401.000000</td>\n",
       "      <td>-2.777553e-02</td>\n",
       "      <td>-2.147398e-02</td>\n",
       "      <td>-1.237618e-02</td>\n",
       "    </tr>\n",
       "    <tr>\n",
       "      <th>75%</th>\n",
       "      <td>5.106683e-01</td>\n",
       "      <td>2.000000</td>\n",
       "      <td>4.000000</td>\n",
       "      <td>3.000000</td>\n",
       "      <td>5.239361e-01</td>\n",
       "      <td>6.904618e-01</td>\n",
       "      <td>5324.250000</td>\n",
       "      <td>7.210542e-01</td>\n",
       "      <td>7.052421e-01</td>\n",
       "      <td>7.103184e-01</td>\n",
       "    </tr>\n",
       "    <tr>\n",
       "      <th>max</th>\n",
       "      <td>8.886075e+00</td>\n",
       "      <td>4.000000</td>\n",
       "      <td>6.000000</td>\n",
       "      <td>7.000000</td>\n",
       "      <td>1.204139e+01</td>\n",
       "      <td>1.680167e+01</td>\n",
       "      <td>18823.000000</td>\n",
       "      <td>4.465203e+00</td>\n",
       "      <td>4.654965e+01</td>\n",
       "      <td>4.004758e+01</td>\n",
       "    </tr>\n",
       "  </tbody>\n",
       "</table>\n",
       "</div>"
      ],
      "text/plain": [
       "              carat           cut         color       clarity         depth  \\\n",
       "count  5.394000e+04  53940.000000  53940.000000  53940.000000  5.394000e+04   \n",
       "mean   6.973409e-14      1.095903      2.314627      2.032351  5.462013e-13   \n",
       "std    1.000009e+00      1.116600      1.820448      1.790676  1.000009e+00   \n",
       "min   -1.261458e+00      0.000000      0.000000      0.000000 -1.308760e+01   \n",
       "25%   -8.395232e-01      0.000000      1.000000      1.000000 -5.231053e-01   \n",
       "50%   -2.066210e-01      1.000000      2.000000      2.000000  3.531678e-02   \n",
       "75%    5.106683e-01      2.000000      4.000000      3.000000  5.239361e-01   \n",
       "max    8.886075e+00      4.000000      6.000000      7.000000  1.204139e+01   \n",
       "\n",
       "              table         price             x             y             z  \n",
       "count  5.394000e+04  53940.000000  5.394000e+04  5.394000e+04  5.394000e+04  \n",
       "mean  -1.241983e-14   3932.799722  1.095639e-13  7.797945e-14 -2.599696e-13  \n",
       "std    1.000009e+00   3989.439738  1.000009e+00  1.000009e+00  1.000009e+00  \n",
       "min   -6.470073e+00    326.000000 -5.109120e+00 -5.020931e+00 -5.014556e+00  \n",
       "25%   -6.521385e-01    950.000000 -9.103248e-01 -8.882800e-01 -8.909461e-01  \n",
       "50%   -2.046051e-01   2401.000000 -2.777553e-02 -2.147398e-02 -1.237618e-02  \n",
       "75%    6.904618e-01   5324.250000  7.210542e-01  7.052421e-01  7.103184e-01  \n",
       "max    1.680167e+01  18823.000000  4.465203e+00  4.654965e+01  4.004758e+01  "
      ]
     },
     "execution_count": 51,
     "metadata": {},
     "output_type": "execute_result"
    }
   ],
   "source": [
    "data.describe()"
   ]
  },
  {
   "cell_type": "markdown",
   "metadata": {},
   "source": [
    "As we can see means of numerical values became very close to 0 and stds very close to 1 after normalization. The errors are caused by values being floats"
   ]
  },
  {
   "cell_type": "markdown",
   "metadata": {},
   "source": [
    "### Now we can split data into train, cross-validation and test sets \n",
    "\n",
    "first we will need to shuffle the data, so there will be all kinds of samples in all of the sets"
   ]
  },
  {
   "cell_type": "code",
   "execution_count": 52,
   "metadata": {
    "collapsed": true
   },
   "outputs": [],
   "source": [
    "data = data.sample(frac=1)"
   ]
  },
  {
   "cell_type": "markdown",
   "metadata": {},
   "source": [
    "then it will be convenient to split label and features and transform data to numpy arrays"
   ]
  },
  {
   "cell_type": "code",
   "execution_count": 53,
   "metadata": {
    "collapsed": true
   },
   "outputs": [],
   "source": [
    "y = data['price']\n",
    "y = y.as_matrix()"
   ]
  },
  {
   "cell_type": "code",
   "execution_count": 54,
   "metadata": {
    "collapsed": true
   },
   "outputs": [],
   "source": [
    "x = data.drop(['price'], axis=1)\n",
    "x = x.as_matrix()"
   ]
  },
  {
   "cell_type": "code",
   "execution_count": 55,
   "metadata": {},
   "outputs": [
    {
     "name": "stdout",
     "output_type": "stream",
     "text": [
      "(53940, 9)\n",
      "(53940,)\n"
     ]
    }
   ],
   "source": [
    "print(x.shape)\n",
    "print(y.shape)"
   ]
  },
  {
   "cell_type": "markdown",
   "metadata": {},
   "source": [
    "Now that we have numpy arrays of features (x) and labels (y) we can split them\n",
    "\n",
    "train - 60%, cross-validation - 20%, test - 20%"
   ]
  },
  {
   "cell_type": "code",
   "execution_count": 56,
   "metadata": {
    "collapsed": true
   },
   "outputs": [],
   "source": [
    "train_x = x[:32400]\n",
    "train_y = y[:32400]\n",
    "\n",
    "cv_x = x[32400:43200]\n",
    "cv_y = y[32400:43200]\n",
    "\n",
    "test_x = x[43200:]\n",
    "test_y = y[43200:]"
   ]
  },
  {
   "cell_type": "markdown",
   "metadata": {},
   "source": [
    "### Let's consider this as a regression problem\n",
    "\n",
    "As there are small amount of features, we can safely use normal equation"
   ]
  },
  {
   "cell_type": "code",
   "execution_count": 57,
   "metadata": {
    "collapsed": true
   },
   "outputs": [],
   "source": [
    "theta = np.linalg.pinv(train_x.transpose().dot(train_x)).dot(np.transpose(train_x)).dot(train_y.reshape(-1, 1))"
   ]
  },
  {
   "cell_type": "markdown",
   "metadata": {},
   "source": [
    "Now that we have computed the parameters, we can calculate mean square error"
   ]
  },
  {
   "cell_type": "code",
   "execution_count": 58,
   "metadata": {},
   "outputs": [
    {
     "data": {
      "text/plain": [
       "2653357.1450463762"
      ]
     },
     "execution_count": 58,
     "metadata": {},
     "output_type": "execute_result"
    }
   ],
   "source": [
    "np.sum((cv_x.dot(theta) - cv_y.reshape(-1, 1)) * (cv_x.dot(theta) - cv_y.reshape(-1, 1))) / (2 * cv_x.shape[0])"
   ]
  },
  {
   "cell_type": "markdown",
   "metadata": {},
   "source": [
    "This is a really big error, on average error of approx. \\$1630 for each prediction\n",
    "\n",
    "If we do normal equation without normalization (as we know normal equation doesn't need normalization and it will be more precise without it, because operations on floats and thus normalization isn't precise), the error will be approx. 1.13m which means approx. \\$1063 error on average for each prediction, but it's still really big, so we need to find a better model "
   ]
  },
  {
   "cell_type": "markdown",
   "metadata": {},
   "source": [
    "#### Now lets create a neural network for better result\n",
    "\n",
    "I will test many kinds of neural networks on cross validation set and leave the one that performs the best"
   ]
  },
  {
   "cell_type": "code",
   "execution_count": 178,
   "metadata": {
    "collapsed": true
   },
   "outputs": [],
   "source": [
    "model = Sequential()\n",
    "\n",
    "model.add(Dense(units=30, use_bias=True, kernel_initializer='glorot_uniform', \n",
    "                activation='selu', input_dim=train_x.shape[1], kernel_regularizer=keras.regularizers.l2(0.01)))\n",
    "model.add(Dense(30, activation='relu', kernel_initializer='glorot_uniform', use_bias=True, \n",
    "                kernel_regularizer=keras.regularizers.l2(0.01)))\n",
    "model.add(Dense(1, activation='elu'))"
   ]
  },
  {
   "cell_type": "code",
   "execution_count": 179,
   "metadata": {
    "collapsed": true
   },
   "outputs": [],
   "source": [
    "model.compile(loss='mean_squared_error', optimizer=keras.optimizers.adam(lr=0.1))"
   ]
  },
  {
   "cell_type": "code",
   "execution_count": 180,
   "metadata": {},
   "outputs": [
    {
     "name": "stdout",
     "output_type": "stream",
     "text": [
      "Epoch 1/200\n",
      "32400/32400 [==============================] - 2s - loss: 2922698.1018     \n",
      "Epoch 2/200\n",
      "32400/32400 [==============================] - 1s - loss: 1746255.2421     \n",
      "Epoch 3/200\n",
      "32400/32400 [==============================] - 1s - loss: 1531742.8850     \n",
      "Epoch 4/200\n",
      "32400/32400 [==============================] - 1s - loss: 1307256.1267     \n",
      "Epoch 5/200\n",
      "32400/32400 [==============================] - 1s - loss: 1098492.4133     \n",
      "Epoch 6/200\n",
      "32400/32400 [==============================] - 1s - loss: 1181859.3480     \n",
      "Epoch 7/200\n",
      "32400/32400 [==============================] - 1s - loss: 886413.0307     \n",
      "Epoch 8/200\n",
      "32400/32400 [==============================] - 1s - loss: 847358.4764     \n",
      "Epoch 9/200\n",
      "32400/32400 [==============================] - 1s - loss: 809567.5707     \n",
      "Epoch 10/200\n",
      "32400/32400 [==============================] - 1s - loss: 765378.4097     \n",
      "Epoch 11/200\n",
      "32400/32400 [==============================] - 1s - loss: 745382.2319     \n",
      "Epoch 12/200\n",
      "32400/32400 [==============================] - 1s - loss: 706849.2449     \n",
      "Epoch 13/200\n",
      "32400/32400 [==============================] - 1s - loss: 687992.5624     \n",
      "Epoch 14/200\n",
      "32400/32400 [==============================] - 1s - loss: 670291.5349     \n",
      "Epoch 15/200\n",
      "32400/32400 [==============================] - 1s - loss: 674747.8592     \n",
      "Epoch 16/200\n",
      "32400/32400 [==============================] - 1s - loss: 639635.8763     \n",
      "Epoch 17/200\n",
      "32400/32400 [==============================] - 1s - loss: 651685.4939     \n",
      "Epoch 18/200\n",
      "32400/32400 [==============================] - 1s - loss: 633105.8727     \n",
      "Epoch 19/200\n",
      "32400/32400 [==============================] - 1s - loss: 621780.6695     \n",
      "Epoch 20/200\n",
      "32400/32400 [==============================] - 1s - loss: 619689.0852     \n",
      "Epoch 21/200\n",
      "32400/32400 [==============================] - 1s - loss: 609034.2154     \n",
      "Epoch 22/200\n",
      "32400/32400 [==============================] - 1s - loss: 616491.0864     \n",
      "Epoch 23/200\n",
      "32400/32400 [==============================] - 1s - loss: 1225335.1495     \n",
      "Epoch 24/200\n",
      "32400/32400 [==============================] - 1s - loss: 609491.5204     \n",
      "Epoch 25/200\n",
      "32400/32400 [==============================] - 1s - loss: 579559.4108     \n",
      "Epoch 26/200\n",
      "32400/32400 [==============================] - 1s - loss: 581559.6245     \n",
      "Epoch 27/200\n",
      "32400/32400 [==============================] - 1s - loss: 561153.0274     \n",
      "Epoch 28/200\n",
      "32400/32400 [==============================] - 1s - loss: 565598.8674     \n",
      "Epoch 29/200\n",
      "32400/32400 [==============================] - 1s - loss: 561676.1562     \n",
      "Epoch 30/200\n",
      "32400/32400 [==============================] - 1s - loss: 546886.9552     \n",
      "Epoch 31/200\n",
      "32400/32400 [==============================] - 1s - loss: 531056.0837     \n",
      "Epoch 32/200\n",
      "32400/32400 [==============================] - 1s - loss: 535781.6562     \n",
      "Epoch 33/200\n",
      "32400/32400 [==============================] - 1s - loss: 542039.7936     \n",
      "Epoch 34/200\n",
      "32400/32400 [==============================] - 1s - loss: 541359.1770     \n",
      "Epoch 35/200\n",
      "32400/32400 [==============================] - 1s - loss: 533716.0382     \n",
      "Epoch 36/200\n",
      "32400/32400 [==============================] - 1s - loss: 533492.9834     \n",
      "Epoch 37/200\n",
      "32400/32400 [==============================] - 1s - loss: 580771.3791     \n",
      "Epoch 38/200\n",
      "32400/32400 [==============================] - 1s - loss: 507239.7520     \n",
      "Epoch 39/200\n",
      "32400/32400 [==============================] - 1s - loss: 497853.1412     \n",
      "Epoch 40/200\n",
      "32400/32400 [==============================] - 1s - loss: 523319.2081     \n",
      "Epoch 41/200\n",
      "32400/32400 [==============================] - 1s - loss: 583914.7942     \n",
      "Epoch 42/200\n",
      "32400/32400 [==============================] - 1s - loss: 538613.3802     \n",
      "Epoch 43/200\n",
      "32400/32400 [==============================] - 1s - loss: 493133.0761     \n",
      "Epoch 44/200\n",
      "32400/32400 [==============================] - 1s - loss: 512693.0859     \n",
      "Epoch 45/200\n",
      "32400/32400 [==============================] - 1s - loss: 496661.1320     \n",
      "Epoch 46/200\n",
      "32400/32400 [==============================] - 1s - loss: 488450.1270     \n",
      "Epoch 47/200\n",
      "32400/32400 [==============================] - 1s - loss: 503656.4402     \n",
      "Epoch 48/200\n",
      "32400/32400 [==============================] - 1s - loss: 489680.8641     \n",
      "Epoch 49/200\n",
      "32400/32400 [==============================] - 1s - loss: 498779.6615     \n",
      "Epoch 50/200\n",
      "32400/32400 [==============================] - 1s - loss: 499903.3611     \n",
      "Epoch 51/200\n",
      "32400/32400 [==============================] - 1s - loss: 484341.8625     \n",
      "Epoch 52/200\n",
      "32400/32400 [==============================] - 1s - loss: 464602.3228     \n",
      "Epoch 53/200\n",
      "32400/32400 [==============================] - 1s - loss: 487323.9993     \n",
      "Epoch 54/200\n",
      "32400/32400 [==============================] - 1s - loss: 499064.7341     \n",
      "Epoch 55/200\n",
      "32400/32400 [==============================] - 1s - loss: 486185.3044     \n",
      "Epoch 56/200\n",
      "32400/32400 [==============================] - 1s - loss: 478238.0013     \n",
      "Epoch 57/200\n",
      "32400/32400 [==============================] - 1s - loss: 470466.1635     \n",
      "Epoch 58/200\n",
      "32400/32400 [==============================] - 1s - loss: 468600.6186     \n",
      "Epoch 59/200\n",
      "32400/32400 [==============================] - 1s - loss: 483988.6308     \n",
      "Epoch 60/200\n",
      "32400/32400 [==============================] - 1s - loss: 464022.0496     \n",
      "Epoch 61/200\n",
      "32400/32400 [==============================] - 1s - loss: 446773.6988     \n",
      "Epoch 62/200\n",
      "32400/32400 [==============================] - 1s - loss: 453041.8453     \n",
      "Epoch 63/200\n",
      "32400/32400 [==============================] - 1s - loss: 440684.6115     \n",
      "Epoch 64/200\n",
      "32400/32400 [==============================] - 1s - loss: 454484.5776     \n",
      "Epoch 65/200\n",
      "32400/32400 [==============================] - 1s - loss: 465099.4677     \n",
      "Epoch 66/200\n",
      "32400/32400 [==============================] - 1s - loss: 446940.9605     \n",
      "Epoch 67/200\n",
      "32400/32400 [==============================] - 1s - loss: 450764.6348     \n",
      "Epoch 68/200\n",
      "32400/32400 [==============================] - 1s - loss: 452893.4295     \n",
      "Epoch 69/200\n",
      "32400/32400 [==============================] - 1s - loss: 423260.5579     \n",
      "Epoch 70/200\n",
      "32400/32400 [==============================] - 1s - loss: 605711.1145     \n",
      "Epoch 71/200\n",
      "32400/32400 [==============================] - 1s - loss: 453258.2904     \n",
      "Epoch 72/200\n",
      "32400/32400 [==============================] - 1s - loss: 428875.7740     \n",
      "Epoch 73/200\n",
      "32400/32400 [==============================] - 1s - loss: 441676.0098     \n",
      "Epoch 74/200\n",
      "32400/32400 [==============================] - 1s - loss: 409005.1450     \n",
      "Epoch 75/200\n",
      "32400/32400 [==============================] - 1s - loss: 413017.9936     \n",
      "Epoch 76/200\n",
      "32400/32400 [==============================] - 1s - loss: 478128.0411     \n",
      "Epoch 77/200\n",
      "32400/32400 [==============================] - 1s - loss: 408531.6813     \n",
      "Epoch 78/200\n",
      "32400/32400 [==============================] - 1s - loss: 439159.5964     \n",
      "Epoch 79/200\n",
      "32400/32400 [==============================] - 1s - loss: 449618.5174     \n",
      "Epoch 80/200\n",
      "32400/32400 [==============================] - 1s - loss: 415756.5785     \n",
      "Epoch 81/200\n",
      "32400/32400 [==============================] - 1s - loss: 461309.1557     \n",
      "Epoch 82/200\n",
      "32400/32400 [==============================] - 1s - loss: 434811.3177     \n",
      "Epoch 83/200\n",
      "32400/32400 [==============================] - 1s - loss: 403905.1209     \n",
      "Epoch 84/200\n",
      "32400/32400 [==============================] - 1s - loss: 423477.4992     \n",
      "Epoch 85/200\n",
      "32400/32400 [==============================] - 1s - loss: 433621.1119     \n",
      "Epoch 86/200\n",
      "32400/32400 [==============================] - 1s - loss: 446484.6758     \n",
      "Epoch 87/200\n",
      "32400/32400 [==============================] - 1s - loss: 444969.3504     \n",
      "Epoch 88/200\n",
      "32400/32400 [==============================] - 1s - loss: 415183.8935     \n",
      "Epoch 89/200\n",
      "32400/32400 [==============================] - 1s - loss: 422236.1060     \n",
      "Epoch 90/200\n",
      "32400/32400 [==============================] - 1s - loss: 423239.5190     \n",
      "Epoch 91/200\n",
      "32400/32400 [==============================] - 1s - loss: 412069.8339     \n",
      "Epoch 92/200\n",
      "32400/32400 [==============================] - 1s - loss: 423996.4972     \n",
      "Epoch 93/200\n",
      "32400/32400 [==============================] - 1s - loss: 422054.1124     \n",
      "Epoch 94/200\n"
     ]
    },
    {
     "name": "stdout",
     "output_type": "stream",
     "text": [
      "32400/32400 [==============================] - 1s - loss: 435017.4023     \n",
      "Epoch 95/200\n",
      "32400/32400 [==============================] - 1s - loss: 439673.0136     \n",
      "Epoch 96/200\n",
      "32400/32400 [==============================] - 1s - loss: 406053.8509     \n",
      "Epoch 97/200\n",
      "32400/32400 [==============================] - 1s - loss: 423807.8413     \n",
      "Epoch 98/200\n",
      "32400/32400 [==============================] - 1s - loss: 571885.2898     \n",
      "Epoch 99/200\n",
      "32400/32400 [==============================] - 1s - loss: 434459.8039     \n",
      "Epoch 100/200\n",
      "32400/32400 [==============================] - 1s - loss: 409546.6607     \n",
      "Epoch 101/200\n",
      "32400/32400 [==============================] - 1s - loss: 408570.3634     \n",
      "Epoch 102/200\n",
      "32400/32400 [==============================] - 1s - loss: 407045.4255     \n",
      "Epoch 103/200\n",
      "32400/32400 [==============================] - 1s - loss: 423976.0795     \n",
      "Epoch 104/200\n",
      "32400/32400 [==============================] - 1s - loss: 463606.1039     \n",
      "Epoch 105/200\n",
      "32400/32400 [==============================] - 1s - loss: 427772.1779     \n",
      "Epoch 106/200\n",
      "32400/32400 [==============================] - 1s - loss: 492468.3638     \n",
      "Epoch 107/200\n",
      "32400/32400 [==============================] - 1s - loss: 407058.8023     \n",
      "Epoch 108/200\n",
      "32400/32400 [==============================] - 1s - loss: 430090.4023     \n",
      "Epoch 109/200\n",
      "32400/32400 [==============================] - 1s - loss: 413188.3344     \n",
      "Epoch 110/200\n",
      "32400/32400 [==============================] - 1s - loss: 415721.7871     \n",
      "Epoch 111/200\n",
      "32400/32400 [==============================] - 1s - loss: 427347.7495     \n",
      "Epoch 112/200\n",
      "32400/32400 [==============================] - 1s - loss: 412099.8093     \n",
      "Epoch 113/200\n",
      "32400/32400 [==============================] - 1s - loss: 403478.3839     \n",
      "Epoch 114/200\n",
      "32400/32400 [==============================] - 1s - loss: 399749.5676     \n",
      "Epoch 115/200\n",
      "32400/32400 [==============================] - 1s - loss: 400269.9974     \n",
      "Epoch 116/200\n",
      "32400/32400 [==============================] - 1s - loss: 405605.6097     \n",
      "Epoch 117/200\n",
      "32400/32400 [==============================] - 1s - loss: 404417.9946     \n",
      "Epoch 118/200\n",
      "32400/32400 [==============================] - 1s - loss: 402178.0307     \n",
      "Epoch 119/200\n",
      "32400/32400 [==============================] - 1s - loss: 471547.7112     \n",
      "Epoch 120/200\n",
      "32400/32400 [==============================] - 1s - loss: 410502.0845     \n",
      "Epoch 121/200\n",
      "32400/32400 [==============================] - 1s - loss: 395820.4096     \n",
      "Epoch 122/200\n",
      "32400/32400 [==============================] - 1s - loss: 404696.8980     \n",
      "Epoch 123/200\n",
      "32400/32400 [==============================] - 1s - loss: 415239.1364     \n",
      "Epoch 124/200\n",
      "32400/32400 [==============================] - 1s - loss: 451202.4334     \n",
      "Epoch 125/200\n",
      "32400/32400 [==============================] - 1s - loss: 409264.8458     \n",
      "Epoch 126/200\n",
      "32400/32400 [==============================] - 1s - loss: 397617.4184     \n",
      "Epoch 127/200\n",
      "32400/32400 [==============================] - 1s - loss: 489049.5274     \n",
      "Epoch 128/200\n",
      "32400/32400 [==============================] - 1s - loss: 407120.2595     \n",
      "Epoch 129/200\n",
      "32400/32400 [==============================] - 1s - loss: 403081.8131     \n",
      "Epoch 130/200\n",
      "32400/32400 [==============================] - 1s - loss: 394661.4681     \n",
      "Epoch 131/200\n",
      "32400/32400 [==============================] - 1s - loss: 424715.3734     \n",
      "Epoch 132/200\n",
      "32400/32400 [==============================] - 1s - loss: 408758.2157     \n",
      "Epoch 133/200\n",
      "32400/32400 [==============================] - 1s - loss: 405452.3164     \n",
      "Epoch 134/200\n",
      "32400/32400 [==============================] - 1s - loss: 395927.2888     \n",
      "Epoch 135/200\n",
      "32400/32400 [==============================] - 1s - loss: 400611.8566      ETA: 0s - loss: 400525.39\n",
      "Epoch 136/200\n",
      "32400/32400 [==============================] - 1s - loss: 459346.3762     \n",
      "Epoch 137/200\n",
      "32400/32400 [==============================] - 1s - loss: 409337.5484     \n",
      "Epoch 138/200\n",
      "32400/32400 [==============================] - 1s - loss: 400578.7413     \n",
      "Epoch 139/200\n",
      "32400/32400 [==============================] - 1s - loss: 408423.1191     \n",
      "Epoch 140/200\n",
      "32400/32400 [==============================] - 1s - loss: 467959.8204     \n",
      "Epoch 141/200\n",
      "32400/32400 [==============================] - 1s - loss: 392492.0987     \n",
      "Epoch 142/200\n",
      "32400/32400 [==============================] - 1s - loss: 480644.1845     \n",
      "Epoch 143/200\n",
      "32400/32400 [==============================] - 1s - loss: 460331.1567     \n",
      "Epoch 144/200\n",
      "32400/32400 [==============================] - 1s - loss: 400981.9259     \n",
      "Epoch 145/200\n",
      "32400/32400 [==============================] - 1s - loss: 396908.6562     \n",
      "Epoch 146/200\n",
      "32400/32400 [==============================] - 1s - loss: 408608.9203      ETA: 0s\n",
      "Epoch 147/200\n",
      "32400/32400 [==============================] - 1s - loss: 396435.7211     \n",
      "Epoch 148/200\n",
      "32400/32400 [==============================] - 1s - loss: 398008.3539     \n",
      "Epoch 149/200\n",
      "32400/32400 [==============================] - 1s - loss: 405091.1806     \n",
      "Epoch 150/200\n",
      "32400/32400 [==============================] - 1s - loss: 392117.8772     \n",
      "Epoch 151/200\n",
      "32400/32400 [==============================] - 1s - loss: 412749.9574     \n",
      "Epoch 152/200\n",
      "32400/32400 [==============================] - 1s - loss: 411455.9915     \n",
      "Epoch 153/200\n",
      "32400/32400 [==============================] - 1s - loss: 503304.7333     \n",
      "Epoch 154/200\n",
      "32400/32400 [==============================] - 1s - loss: 392950.3053     \n",
      "Epoch 155/200\n",
      "32400/32400 [==============================] - 1s - loss: 392564.9308     \n",
      "Epoch 156/200\n",
      "32400/32400 [==============================] - 1s - loss: 400581.3210     \n",
      "Epoch 157/200\n",
      "32400/32400 [==============================] - 1s - loss: 401069.3645     \n",
      "Epoch 158/200\n",
      "32400/32400 [==============================] - 1s - loss: 408194.9679     \n",
      "Epoch 159/200\n",
      "32400/32400 [==============================] - 1s - loss: 404339.2748     \n",
      "Epoch 160/200\n",
      "32400/32400 [==============================] - 1s - loss: 400461.5500     \n",
      "Epoch 161/200\n",
      "32400/32400 [==============================] - 1s - loss: 390754.1469     \n",
      "Epoch 162/200\n",
      "32400/32400 [==============================] - 1s - loss: 387218.0351     \n",
      "Epoch 163/200\n",
      "32400/32400 [==============================] - 1s - loss: 395890.7470     \n",
      "Epoch 164/200\n",
      "32400/32400 [==============================] - 1s - loss: 395200.6198     \n",
      "Epoch 165/200\n",
      "32400/32400 [==============================] - 1s - loss: 394339.9295     \n",
      "Epoch 166/200\n",
      "32400/32400 [==============================] - 1s - loss: 387970.2113     \n",
      "Epoch 167/200\n",
      "32400/32400 [==============================] - 1s - loss: 419806.1444     \n",
      "Epoch 168/200\n",
      "32400/32400 [==============================] - 1s - loss: 380397.3922     \n",
      "Epoch 169/200\n",
      "32400/32400 [==============================] - 1s - loss: 400101.2866     \n",
      "Epoch 170/200\n",
      "32400/32400 [==============================] - 1s - loss: 391743.8747     \n",
      "Epoch 171/200\n",
      "32400/32400 [==============================] - 1s - loss: 408709.0700     \n",
      "Epoch 172/200\n",
      "32400/32400 [==============================] - 1s - loss: 387210.2635     \n",
      "Epoch 173/200\n",
      "32400/32400 [==============================] - 1s - loss: 423441.8942     \n",
      "Epoch 174/200\n",
      "32400/32400 [==============================] - 1s - loss: 378213.9141     \n",
      "Epoch 175/200\n",
      "32400/32400 [==============================] - 1s - loss: 464815.2269     \n",
      "Epoch 176/200\n",
      "32400/32400 [==============================] - 1s - loss: 410172.1244     \n",
      "Epoch 177/200\n",
      "32400/32400 [==============================] - 1s - loss: 396629.8139     \n",
      "Epoch 178/200\n",
      "32400/32400 [==============================] - 1s - loss: 393096.2467     \n",
      "Epoch 179/200\n",
      "32400/32400 [==============================] - 1s - loss: 395804.6162     \n",
      "Epoch 180/200\n",
      "32400/32400 [==============================] - 1s - loss: 390313.4796     \n",
      "Epoch 181/200\n",
      "32400/32400 [==============================] - 1s - loss: 394420.2104     \n",
      "Epoch 182/200\n",
      "32400/32400 [==============================] - 1s - loss: 446544.0568     \n",
      "Epoch 183/200\n",
      "32400/32400 [==============================] - 1s - loss: 392920.2670     \n",
      "Epoch 184/200\n",
      "32400/32400 [==============================] - 1s - loss: 398452.5533      ETA: 0s - loss: 39721\n",
      "Epoch 185/200\n",
      "32400/32400 [==============================] - 1s - loss: 412051.8458     \n",
      "Epoch 186/200\n",
      "32400/32400 [==============================] - 1s - loss: 385511.1990     \n",
      "Epoch 187/200\n",
      "32400/32400 [==============================] - 1s - loss: 409182.8584     \n",
      "Epoch 188/200\n",
      "32400/32400 [==============================] - 1s - loss: 399637.4080     \n",
      "Epoch 189/200\n",
      "32400/32400 [==============================] - 1s - loss: 386186.7195     \n",
      "Epoch 190/200\n",
      "32400/32400 [==============================] - 1s - loss: 388454.8735     \n",
      "Epoch 191/200\n",
      "32400/32400 [==============================] - 1s - loss: 385011.8902     \n",
      "Epoch 192/200\n",
      "32400/32400 [==============================] - 1s - loss: 420461.7865     \n",
      "Epoch 193/200\n",
      "32400/32400 [==============================] - 1s - loss: 387844.1052     \n",
      "Epoch 194/200\n",
      "32400/32400 [==============================] - 1s - loss: 387714.3470     \n",
      "Epoch 195/200\n",
      "32400/32400 [==============================] - 1s - loss: 392013.6870      ETA: 0s - loss: 392670.63 - ETA: 0s - loss: 391\n",
      "Epoch 196/200\n",
      "32400/32400 [==============================] - 1s - loss: 399683.7992     \n",
      "Epoch 197/200\n",
      "32400/32400 [==============================] - 1s - loss: 385421.0407     \n",
      "Epoch 198/200\n",
      "32400/32400 [==============================] - 1s - loss: 379236.4718     \n",
      "Epoch 199/200\n",
      "32400/32400 [==============================] - 1s - loss: 387821.7747     \n",
      "Epoch 200/200\n",
      "32400/32400 [==============================] - 1s - loss: 387570.6333     \n"
     ]
    },
    {
     "data": {
      "text/plain": [
       "<keras.callbacks.History at 0x9221a44240>"
      ]
     },
     "execution_count": 180,
     "metadata": {},
     "output_type": "execute_result"
    }
   ],
   "source": [
    "model.fit(train_x, train_y, epochs=200, batch_size=50)"
   ]
  },
  {
   "cell_type": "code",
   "execution_count": 181,
   "metadata": {
    "collapsed": true
   },
   "outputs": [],
   "source": [
    "y_pred = model.predict(cv_x)"
   ]
  },
  {
   "cell_type": "code",
   "execution_count": 182,
   "metadata": {},
   "outputs": [
    {
     "data": {
      "text/plain": [
       "191887.16022043311"
      ]
     },
     "execution_count": 182,
     "metadata": {},
     "output_type": "execute_result"
    }
   ],
   "source": [
    "np.sum((y_pred - cv_y.reshape(-1, 1)) * (y_pred - cv_y.reshape(-1, 1))) / (2 * cv_x.shape[0])"
   ]
  },
  {
   "cell_type": "markdown",
   "metadata": {
    "collapsed": true
   },
   "source": [
    "Still not a very good result, but way better than we had with normal equation - approx. \\$400 error on average for each sample, which is not that much, considering, diamond prices in our dataset are up to \\$19000\n",
    "\n",
    "So how will this model perform on an unknown data? "
   ]
  },
  {
   "cell_type": "code",
   "execution_count": 183,
   "metadata": {
    "collapsed": true
   },
   "outputs": [],
   "source": [
    "y_pred = model.predict(test_x)"
   ]
  },
  {
   "cell_type": "code",
   "execution_count": 184,
   "metadata": {},
   "outputs": [
    {
     "data": {
      "text/plain": [
       "186605.20547863955"
      ]
     },
     "execution_count": 184,
     "metadata": {},
     "output_type": "execute_result"
    }
   ],
   "source": [
    "np.sum((y_pred - test_y.reshape(-1, 1)) * (y_pred - test_y.reshape(-1, 1))) / (2 * test_x.shape[0])"
   ]
  },
  {
   "cell_type": "markdown",
   "metadata": {},
   "source": [
    "Result is almost the same as with the cross validation data"
   ]
  },
  {
   "cell_type": "markdown",
   "metadata": {},
   "source": [
    "### Let's consider it as a classification problem\n",
    "\n",
    "For this first we need to create bands for prices"
   ]
  },
  {
   "cell_type": "code",
   "execution_count": 59,
   "metadata": {},
   "outputs": [
    {
     "data": {
      "text/plain": [
       "(325.999, 837.0]     10796\n",
       "(1698.0, 3465.0]     10789\n",
       "(6301.2, 18823.0]    10788\n",
       "(837.0, 1698.0]      10784\n",
       "(3465.0, 6301.2]     10783\n",
       "Name: price_band, dtype: int64"
      ]
     },
     "execution_count": 59,
     "metadata": {},
     "output_type": "execute_result"
    }
   ],
   "source": [
    "data['price_band'] = pd.qcut(data['price'], 5)\n",
    "data['price_band'].value_counts()"
   ]
  },
  {
   "cell_type": "markdown",
   "metadata": {},
   "source": [
    "Every bin has almost equal amount of samples\n",
    "\n",
    "Now we can use these bands to convert price to ordinal categorical feature"
   ]
  },
  {
   "cell_type": "code",
   "execution_count": 60,
   "metadata": {
    "collapsed": true
   },
   "outputs": [],
   "source": [
    "data.loc[ data['price'] <= 837.0, 'price'] = 0\n",
    "data.loc[(data['price'] > 837.0) & (data['price'] <= 1698.0), 'price'] = 1\n",
    "data.loc[(data['price'] > 1698.0) & (data['price'] <= 3465.0), 'price'] = 2\n",
    "data.loc[(data['price'] > 3465.0) & (data['price'] <= 6301.2), 'price'] = 3\n",
    "data.loc[ data['price'] > 6301.2, 'price'] = 4\n",
    "data['price'] = data['price'].astype(int)"
   ]
  },
  {
   "cell_type": "code",
   "execution_count": 61,
   "metadata": {},
   "outputs": [
    {
     "data": {
      "text/html": [
       "<div>\n",
       "<style>\n",
       "    .dataframe thead tr:only-child th {\n",
       "        text-align: right;\n",
       "    }\n",
       "\n",
       "    .dataframe thead th {\n",
       "        text-align: left;\n",
       "    }\n",
       "\n",
       "    .dataframe tbody tr th {\n",
       "        vertical-align: top;\n",
       "    }\n",
       "</style>\n",
       "<table border=\"1\" class=\"dataframe\">\n",
       "  <thead>\n",
       "    <tr style=\"text-align: right;\">\n",
       "      <th></th>\n",
       "      <th>carat</th>\n",
       "      <th>cut</th>\n",
       "      <th>color</th>\n",
       "      <th>clarity</th>\n",
       "      <th>depth</th>\n",
       "      <th>table</th>\n",
       "      <th>price</th>\n",
       "      <th>x</th>\n",
       "      <th>y</th>\n",
       "      <th>z</th>\n",
       "      <th>price_band</th>\n",
       "    </tr>\n",
       "  </thead>\n",
       "  <tbody>\n",
       "    <tr>\n",
       "      <th>2714</th>\n",
       "      <td>-0.987200</td>\n",
       "      <td>0</td>\n",
       "      <td>3</td>\n",
       "      <td>0</td>\n",
       "      <td>-0.034486</td>\n",
       "      <td>-1.099672</td>\n",
       "      <td>0</td>\n",
       "      <td>-1.159935</td>\n",
       "      <td>-1.115926</td>\n",
       "      <td>-1.131844</td>\n",
       "      <td>(325.999, 837.0]</td>\n",
       "    </tr>\n",
       "    <tr>\n",
       "      <th>14653</th>\n",
       "      <td>0.848216</td>\n",
       "      <td>0</td>\n",
       "      <td>5</td>\n",
       "      <td>1</td>\n",
       "      <td>0.244725</td>\n",
       "      <td>-0.204605</td>\n",
       "      <td>3</td>\n",
       "      <td>0.935006</td>\n",
       "      <td>0.854088</td>\n",
       "      <td>0.922876</td>\n",
       "      <td>(3465.0, 6301.2]</td>\n",
       "    </tr>\n",
       "    <tr>\n",
       "      <th>52760</th>\n",
       "      <td>-0.375395</td>\n",
       "      <td>0</td>\n",
       "      <td>4</td>\n",
       "      <td>3</td>\n",
       "      <td>-0.523105</td>\n",
       "      <td>-0.204605</td>\n",
       "      <td>2</td>\n",
       "      <td>-0.197154</td>\n",
       "      <td>-0.170319</td>\n",
       "      <td>-0.239104</td>\n",
       "      <td>(1698.0, 3465.0]</td>\n",
       "    </tr>\n",
       "    <tr>\n",
       "      <th>48658</th>\n",
       "      <td>-0.966104</td>\n",
       "      <td>3</td>\n",
       "      <td>3</td>\n",
       "      <td>1</td>\n",
       "      <td>0.942753</td>\n",
       "      <td>-0.652139</td>\n",
       "      <td>0</td>\n",
       "      <td>-1.177764</td>\n",
       "      <td>-1.115926</td>\n",
       "      <td>-1.046821</td>\n",
       "      <td>(325.999, 837.0]</td>\n",
       "    </tr>\n",
       "    <tr>\n",
       "      <th>14812</th>\n",
       "      <td>0.848216</td>\n",
       "      <td>0</td>\n",
       "      <td>1</td>\n",
       "      <td>2</td>\n",
       "      <td>0.523936</td>\n",
       "      <td>-1.099672</td>\n",
       "      <td>3</td>\n",
       "      <td>0.926091</td>\n",
       "      <td>0.967911</td>\n",
       "      <td>1.007899</td>\n",
       "      <td>(3465.0, 6301.2]</td>\n",
       "    </tr>\n",
       "  </tbody>\n",
       "</table>\n",
       "</div>"
      ],
      "text/plain": [
       "          carat  cut  color  clarity     depth     table  price         x  \\\n",
       "2714  -0.987200    0      3        0 -0.034486 -1.099672      0 -1.159935   \n",
       "14653  0.848216    0      5        1  0.244725 -0.204605      3  0.935006   \n",
       "52760 -0.375395    0      4        3 -0.523105 -0.204605      2 -0.197154   \n",
       "48658 -0.966104    3      3        1  0.942753 -0.652139      0 -1.177764   \n",
       "14812  0.848216    0      1        2  0.523936 -1.099672      3  0.926091   \n",
       "\n",
       "              y         z        price_band  \n",
       "2714  -1.115926 -1.131844  (325.999, 837.0]  \n",
       "14653  0.854088  0.922876  (3465.0, 6301.2]  \n",
       "52760 -0.170319 -0.239104  (1698.0, 3465.0]  \n",
       "48658 -1.115926 -1.046821  (325.999, 837.0]  \n",
       "14812  0.967911  1.007899  (3465.0, 6301.2]  "
      ]
     },
     "execution_count": 61,
     "metadata": {},
     "output_type": "execute_result"
    }
   ],
   "source": [
    "data.head()"
   ]
  },
  {
   "cell_type": "markdown",
   "metadata": {},
   "source": [
    "Now we can drop the price_band feature"
   ]
  },
  {
   "cell_type": "code",
   "execution_count": 62,
   "metadata": {
    "collapsed": true
   },
   "outputs": [],
   "source": [
    "data = data.drop(['price_band'], axis=1)"
   ]
  },
  {
   "cell_type": "code",
   "execution_count": 63,
   "metadata": {},
   "outputs": [
    {
     "data": {
      "text/html": [
       "<div>\n",
       "<style>\n",
       "    .dataframe thead tr:only-child th {\n",
       "        text-align: right;\n",
       "    }\n",
       "\n",
       "    .dataframe thead th {\n",
       "        text-align: left;\n",
       "    }\n",
       "\n",
       "    .dataframe tbody tr th {\n",
       "        vertical-align: top;\n",
       "    }\n",
       "</style>\n",
       "<table border=\"1\" class=\"dataframe\">\n",
       "  <thead>\n",
       "    <tr style=\"text-align: right;\">\n",
       "      <th></th>\n",
       "      <th>carat</th>\n",
       "      <th>cut</th>\n",
       "      <th>color</th>\n",
       "      <th>clarity</th>\n",
       "      <th>depth</th>\n",
       "      <th>table</th>\n",
       "      <th>price</th>\n",
       "      <th>x</th>\n",
       "      <th>y</th>\n",
       "      <th>z</th>\n",
       "    </tr>\n",
       "  </thead>\n",
       "  <tbody>\n",
       "    <tr>\n",
       "      <th>2714</th>\n",
       "      <td>-0.987200</td>\n",
       "      <td>0</td>\n",
       "      <td>3</td>\n",
       "      <td>0</td>\n",
       "      <td>-0.034486</td>\n",
       "      <td>-1.099672</td>\n",
       "      <td>0</td>\n",
       "      <td>-1.159935</td>\n",
       "      <td>-1.115926</td>\n",
       "      <td>-1.131844</td>\n",
       "    </tr>\n",
       "    <tr>\n",
       "      <th>14653</th>\n",
       "      <td>0.848216</td>\n",
       "      <td>0</td>\n",
       "      <td>5</td>\n",
       "      <td>1</td>\n",
       "      <td>0.244725</td>\n",
       "      <td>-0.204605</td>\n",
       "      <td>3</td>\n",
       "      <td>0.935006</td>\n",
       "      <td>0.854088</td>\n",
       "      <td>0.922876</td>\n",
       "    </tr>\n",
       "    <tr>\n",
       "      <th>52760</th>\n",
       "      <td>-0.375395</td>\n",
       "      <td>0</td>\n",
       "      <td>4</td>\n",
       "      <td>3</td>\n",
       "      <td>-0.523105</td>\n",
       "      <td>-0.204605</td>\n",
       "      <td>2</td>\n",
       "      <td>-0.197154</td>\n",
       "      <td>-0.170319</td>\n",
       "      <td>-0.239104</td>\n",
       "    </tr>\n",
       "    <tr>\n",
       "      <th>48658</th>\n",
       "      <td>-0.966104</td>\n",
       "      <td>3</td>\n",
       "      <td>3</td>\n",
       "      <td>1</td>\n",
       "      <td>0.942753</td>\n",
       "      <td>-0.652139</td>\n",
       "      <td>0</td>\n",
       "      <td>-1.177764</td>\n",
       "      <td>-1.115926</td>\n",
       "      <td>-1.046821</td>\n",
       "    </tr>\n",
       "    <tr>\n",
       "      <th>14812</th>\n",
       "      <td>0.848216</td>\n",
       "      <td>0</td>\n",
       "      <td>1</td>\n",
       "      <td>2</td>\n",
       "      <td>0.523936</td>\n",
       "      <td>-1.099672</td>\n",
       "      <td>3</td>\n",
       "      <td>0.926091</td>\n",
       "      <td>0.967911</td>\n",
       "      <td>1.007899</td>\n",
       "    </tr>\n",
       "  </tbody>\n",
       "</table>\n",
       "</div>"
      ],
      "text/plain": [
       "          carat  cut  color  clarity     depth     table  price         x  \\\n",
       "2714  -0.987200    0      3        0 -0.034486 -1.099672      0 -1.159935   \n",
       "14653  0.848216    0      5        1  0.244725 -0.204605      3  0.935006   \n",
       "52760 -0.375395    0      4        3 -0.523105 -0.204605      2 -0.197154   \n",
       "48658 -0.966104    3      3        1  0.942753 -0.652139      0 -1.177764   \n",
       "14812  0.848216    0      1        2  0.523936 -1.099672      3  0.926091   \n",
       "\n",
       "              y         z  \n",
       "2714  -1.115926 -1.131844  \n",
       "14653  0.854088  0.922876  \n",
       "52760 -0.170319 -0.239104  \n",
       "48658 -1.115926 -1.046821  \n",
       "14812  0.967911  1.007899  "
      ]
     },
     "execution_count": 63,
     "metadata": {},
     "output_type": "execute_result"
    }
   ],
   "source": [
    "data.head()"
   ]
  },
  {
   "cell_type": "markdown",
   "metadata": {},
   "source": [
    "Now split again, as before"
   ]
  },
  {
   "cell_type": "code",
   "execution_count": 64,
   "metadata": {
    "collapsed": true
   },
   "outputs": [],
   "source": [
    "y = data['price']\n",
    "y = y.as_matrix()\n",
    "\n",
    "x = data.drop(['price'], axis=1)\n",
    "x = x.as_matrix()\n",
    "\n",
    "train_x = x[:32400]\n",
    "train_y = y[:32400]\n",
    "\n",
    "cv_x = x[32400:43200]\n",
    "cv_y = y[32400:43200]\n",
    "\n",
    "test_x = x[43200:]\n",
    "test_y = y[43200:]"
   ]
  },
  {
   "cell_type": "markdown",
   "metadata": {},
   "source": [
    "Now Let's try to solve this using different supervised learning models and see which one gives the best result\n",
    "\n",
    "#### Neural Network"
   ]
  },
  {
   "cell_type": "code",
   "execution_count": 108,
   "metadata": {
    "collapsed": true
   },
   "outputs": [],
   "source": [
    "model = Sequential()\n",
    "\n",
    "model.add(Dense(units=30, use_bias=True, kernel_initializer='glorot_uniform', \n",
    "                activation='selu', input_dim=train_x.shape[1], kernel_regularizer=keras.regularizers.l2(0.01)))\n",
    "model.add(Dense(30, activation='relu', kernel_initializer='glorot_uniform', use_bias=True, \n",
    "                kernel_regularizer=keras.regularizers.l2(0.01)))\n",
    "model.add(Dense(5, activation='sigmoid'))"
   ]
  },
  {
   "cell_type": "code",
   "execution_count": 109,
   "metadata": {
    "collapsed": true
   },
   "outputs": [],
   "source": [
    "model.compile(loss='categorical_crossentropy', optimizer=keras.optimizers.adam(lr=0.01), metrics=['accuracy'])"
   ]
  },
  {
   "cell_type": "code",
   "execution_count": 110,
   "metadata": {},
   "outputs": [
    {
     "name": "stdout",
     "output_type": "stream",
     "text": [
      "Epoch 1/150\n",
      "32400/32400 [==============================] - 3s - loss: 0.6681 - acc: 0.7609     \n",
      "Epoch 2/150\n",
      "32400/32400 [==============================] - 1s - loss: 0.5613 - acc: 0.7846     \n",
      "Epoch 3/150\n",
      "32400/32400 [==============================] - 1s - loss: 0.5416 - acc: 0.7901     \n",
      "Epoch 4/150\n",
      "32400/32400 [==============================] - 1s - loss: 0.5352 - acc: 0.7887     \n",
      "Epoch 5/150\n",
      "32400/32400 [==============================] - 1s - loss: 0.5295 - acc: 0.7912     \n",
      "Epoch 6/150\n",
      "32400/32400 [==============================] - 1s - loss: 0.5263 - acc: 0.7919     \n",
      "Epoch 7/150\n",
      "32400/32400 [==============================] - 1s - loss: 0.5207 - acc: 0.7941     \n",
      "Epoch 8/150\n",
      "32400/32400 [==============================] - 1s - loss: 0.5222 - acc: 0.7919     \n",
      "Epoch 9/150\n",
      "32400/32400 [==============================] - 1s - loss: 0.5212 - acc: 0.7920     \n",
      "Epoch 10/150\n",
      "32400/32400 [==============================] - 1s - loss: 0.5194 - acc: 0.7922     \n",
      "Epoch 11/150\n",
      "32400/32400 [==============================] - 1s - loss: 0.5165 - acc: 0.7948     \n",
      "Epoch 12/150\n",
      "32400/32400 [==============================] - 1s - loss: 0.5183 - acc: 0.7927     \n",
      "Epoch 13/150\n",
      "32400/32400 [==============================] - 1s - loss: 0.5171 - acc: 0.7944     \n",
      "Epoch 14/150\n",
      "32400/32400 [==============================] - 1s - loss: 0.5078 - acc: 0.7977     \n",
      "Epoch 15/150\n",
      "32400/32400 [==============================] - 1s - loss: 0.5088 - acc: 0.7971     \n",
      "Epoch 16/150\n",
      "32400/32400 [==============================] - 1s - loss: 0.5011 - acc: 0.8018     \n",
      "Epoch 17/150\n",
      "32400/32400 [==============================] - 1s - loss: 0.4981 - acc: 0.8014     - ETA: 1s - lo\n",
      "Epoch 18/150\n",
      "32400/32400 [==============================] - 1s - loss: 0.4977 - acc: 0.8024     \n",
      "Epoch 19/150\n",
      "32400/32400 [==============================] - 1s - loss: 0.4959 - acc: 0.8050     \n",
      "Epoch 20/150\n",
      "32400/32400 [==============================] - 1s - loss: 0.4904 - acc: 0.8052     \n",
      "Epoch 21/150\n",
      "32400/32400 [==============================] - 1s - loss: 0.5021 - acc: 0.8014     \n",
      "Epoch 22/150\n",
      "32400/32400 [==============================] - 1s - loss: 0.4935 - acc: 0.8045     \n",
      "Epoch 23/150\n",
      "32400/32400 [==============================] - 1s - loss: 0.4920 - acc: 0.8057     \n",
      "Epoch 24/150\n",
      "32400/32400 [==============================] - 1s - loss: 0.4905 - acc: 0.8061     \n",
      "Epoch 25/150\n",
      "32400/32400 [==============================] - 1s - loss: 0.4928 - acc: 0.8072     \n",
      "Epoch 26/150\n",
      "32400/32400 [==============================] - 1s - loss: 0.4879 - acc: 0.8074     \n",
      "Epoch 27/150\n",
      "32400/32400 [==============================] - 1s - loss: 0.4934 - acc: 0.8049     \n",
      "Epoch 28/150\n",
      "32400/32400 [==============================] - 1s - loss: 0.4872 - acc: 0.8101     \n",
      "Epoch 29/150\n",
      "32400/32400 [==============================] - 2s - loss: 0.4858 - acc: 0.8081     \n",
      "Epoch 30/150\n",
      "32400/32400 [==============================] - 1s - loss: 0.4854 - acc: 0.8085     \n",
      "Epoch 31/150\n",
      "32400/32400 [==============================] - 1s - loss: 0.4864 - acc: 0.8093     \n",
      "Epoch 32/150\n",
      "32400/32400 [==============================] - 1s - loss: 0.4794 - acc: 0.8102     \n",
      "Epoch 33/150\n",
      "32400/32400 [==============================] - 1s - loss: 0.4809 - acc: 0.8077     \n",
      "Epoch 34/150\n",
      "32400/32400 [==============================] - 1s - loss: 0.4784 - acc: 0.8113     \n",
      "Epoch 35/150\n",
      "32400/32400 [==============================] - 2s - loss: 0.4775 - acc: 0.8133     \n",
      "Epoch 36/150\n",
      "32400/32400 [==============================] - 2s - loss: 0.4809 - acc: 0.8123     \n",
      "Epoch 37/150\n",
      "32400/32400 [==============================] - 2s - loss: 0.4767 - acc: 0.8135     \n",
      "Epoch 38/150\n",
      "32400/32400 [==============================] - 2s - loss: 0.4765 - acc: 0.8119     \n",
      "Epoch 39/150\n",
      "32400/32400 [==============================] - 2s - loss: 0.4784 - acc: 0.8127     \n",
      "Epoch 40/150\n",
      "32400/32400 [==============================] - 2s - loss: 0.4796 - acc: 0.8141     \n",
      "Epoch 41/150\n",
      "32400/32400 [==============================] - 2s - loss: 0.4694 - acc: 0.8177     \n",
      "Epoch 42/150\n",
      "32400/32400 [==============================] - 2s - loss: 0.4718 - acc: 0.8172     \n",
      "Epoch 43/150\n",
      "32400/32400 [==============================] - 1s - loss: 0.4769 - acc: 0.8162     \n",
      "Epoch 44/150\n",
      "32400/32400 [==============================] - 1s - loss: 0.4718 - acc: 0.8166     \n",
      "Epoch 45/150\n",
      "32400/32400 [==============================] - 1s - loss: 0.4680 - acc: 0.8184     \n",
      "Epoch 46/150\n",
      "32400/32400 [==============================] - 1s - loss: 0.4728 - acc: 0.8170     \n",
      "Epoch 47/150\n",
      "32400/32400 [==============================] - 1s - loss: 0.4722 - acc: 0.8186     \n",
      "Epoch 48/150\n",
      "32400/32400 [==============================] - 1s - loss: 0.4713 - acc: 0.8183     \n",
      "Epoch 49/150\n",
      "32400/32400 [==============================] - 1s - loss: 0.4697 - acc: 0.8205     \n",
      "Epoch 50/150\n",
      "32400/32400 [==============================] - 1s - loss: 0.4639 - acc: 0.8216     \n",
      "Epoch 51/150\n",
      "32400/32400 [==============================] - 1s - loss: 0.4677 - acc: 0.8210     \n",
      "Epoch 52/150\n",
      "32400/32400 [==============================] - 1s - loss: 0.4613 - acc: 0.8223     \n",
      "Epoch 53/150\n",
      "32400/32400 [==============================] - 1s - loss: 0.4624 - acc: 0.8227     \n",
      "Epoch 54/150\n",
      "32400/32400 [==============================] - 2s - loss: 0.4676 - acc: 0.8196     \n",
      "Epoch 55/150\n",
      "32400/32400 [==============================] - 2s - loss: 0.4617 - acc: 0.8239     \n",
      "Epoch 56/150\n",
      "32400/32400 [==============================] - 2s - loss: 0.4589 - acc: 0.8235     \n",
      "Epoch 57/150\n",
      "32400/32400 [==============================] - 1s - loss: 0.4589 - acc: 0.8222     \n",
      "Epoch 58/150\n",
      "32400/32400 [==============================] - 1s - loss: 0.4626 - acc: 0.8222     \n",
      "Epoch 59/150\n",
      "32400/32400 [==============================] - 1s - loss: 0.4622 - acc: 0.8241     \n",
      "Epoch 60/150\n",
      "32400/32400 [==============================] - 1s - loss: 0.4568 - acc: 0.8242     - ETA: 1s - loss: 0.4447 - ac - ETA: 0s - loss: 0.446\n",
      "Epoch 61/150\n",
      "32400/32400 [==============================] - 1s - loss: 0.4551 - acc: 0.8249     \n",
      "Epoch 62/150\n",
      "32400/32400 [==============================] - 1s - loss: 0.4569 - acc: 0.8218     \n",
      "Epoch 63/150\n",
      "32400/32400 [==============================] - 1s - loss: 0.4661 - acc: 0.8205     \n",
      "Epoch 64/150\n",
      "32400/32400 [==============================] - 1s - loss: 0.4605 - acc: 0.8210     \n",
      "Epoch 65/150\n",
      "32400/32400 [==============================] - 1s - loss: 0.4558 - acc: 0.8227     \n",
      "Epoch 66/150\n",
      "32400/32400 [==============================] - 1s - loss: 0.4574 - acc: 0.8217     \n",
      "Epoch 67/150\n",
      "32400/32400 [==============================] - 1s - loss: 0.4599 - acc: 0.8228     \n",
      "Epoch 68/150\n",
      "32400/32400 [==============================] - 1s - loss: 0.4570 - acc: 0.8236     \n",
      "Epoch 69/150\n",
      "32400/32400 [==============================] - 1s - loss: 0.4692 - acc: 0.8200     \n",
      "Epoch 70/150\n",
      "32400/32400 [==============================] - 1s - loss: 0.4527 - acc: 0.8247     \n",
      "Epoch 71/150\n",
      "32400/32400 [==============================] - 1s - loss: 0.4616 - acc: 0.8221     \n",
      "Epoch 72/150\n",
      "32400/32400 [==============================] - 1s - loss: 0.4516 - acc: 0.8240     \n",
      "Epoch 73/150\n",
      "32400/32400 [==============================] - 1s - loss: 0.4613 - acc: 0.8201     \n",
      "Epoch 74/150\n",
      "32400/32400 [==============================] - 1s - loss: 0.4535 - acc: 0.8255     - ETA: 0s - loss: 0.4538 - acc: \n",
      "Epoch 75/150\n",
      "32400/32400 [==============================] - 1s - loss: 0.4655 - acc: 0.8193     \n",
      "Epoch 76/150\n",
      "32400/32400 [==============================] - 1s - loss: 0.4564 - acc: 0.8245     \n",
      "Epoch 77/150\n",
      "32400/32400 [==============================] - 1s - loss: 0.4577 - acc: 0.8226     \n",
      "Epoch 78/150\n",
      "32400/32400 [==============================] - 1s - loss: 0.4531 - acc: 0.8253     \n",
      "Epoch 79/150\n",
      "32400/32400 [==============================] - 1s - loss: 0.4583 - acc: 0.8246     \n",
      "Epoch 80/150\n",
      "32400/32400 [==============================] - 1s - loss: 0.4553 - acc: 0.8234     \n",
      "Epoch 81/150\n",
      "32400/32400 [==============================] - 1s - loss: 0.4617 - acc: 0.8230     \n",
      "Epoch 82/150\n",
      "32400/32400 [==============================] - 1s - loss: 0.4601 - acc: 0.8226     \n",
      "Epoch 83/150\n",
      "32400/32400 [==============================] - 1s - loss: 0.4553 - acc: 0.8243     \n",
      "Epoch 84/150\n",
      "32400/32400 [==============================] - 1s - loss: 0.4517 - acc: 0.8242     \n",
      "Epoch 85/150\n",
      "32400/32400 [==============================] - 1s - loss: 0.4520 - acc: 0.8260     \n",
      "Epoch 86/150\n",
      "32400/32400 [==============================] - 1s - loss: 0.4544 - acc: 0.8254     \n",
      "Epoch 87/150\n",
      "32400/32400 [==============================] - 1s - loss: 0.4595 - acc: 0.8217     \n",
      "Epoch 88/150\n",
      "32400/32400 [==============================] - 1s - loss: 0.4509 - acc: 0.8263     \n",
      "Epoch 89/150\n",
      "32400/32400 [==============================] - 1s - loss: 0.4587 - acc: 0.8237     \n",
      "Epoch 90/150\n",
      "32400/32400 [==============================] - 1s - loss: 0.4538 - acc: 0.8247     \n",
      "Epoch 91/150\n",
      "32400/32400 [==============================] - 1s - loss: 0.4447 - acc: 0.8262     \n",
      "Epoch 92/150\n",
      "32400/32400 [==============================] - 1s - loss: 0.4475 - acc: 0.8279     - ETA: 0s - loss: 0.4419 - acc: 0.832 - ETA: 0s - loss: 0.\n",
      "Epoch 93/150\n",
      "32400/32400 [==============================] - 1s - loss: 0.4547 - acc: 0.8252     \n",
      "Epoch 94/150\n",
      "32400/32400 [==============================] - 1s - loss: 0.4541 - acc: 0.8260     \n",
      "Epoch 95/150\n",
      "32400/32400 [==============================] - 1s - loss: 0.4495 - acc: 0.8274     \n",
      "Epoch 96/150\n",
      "32400/32400 [==============================] - 1s - loss: 0.4521 - acc: 0.8253     \n",
      "Epoch 97/150\n",
      "32400/32400 [==============================] - 1s - loss: 0.4530 - acc: 0.8256     \n",
      "Epoch 98/150\n",
      "32400/32400 [==============================] - 1s - loss: 0.4524 - acc: 0.8240     \n",
      "Epoch 99/150\n",
      "32400/32400 [==============================] - 1s - loss: 0.4498 - acc: 0.8275     \n",
      "Epoch 100/150\n",
      "32400/32400 [==============================] - 1s - loss: 0.4524 - acc: 0.8247     - ETA: 0s - loss: 0.4543 - acc\n",
      "Epoch 101/150\n",
      "32400/32400 [==============================] - 1s - loss: 0.4512 - acc: 0.8271     \n",
      "Epoch 102/150\n",
      "32400/32400 [==============================] - 1s - loss: 0.4519 - acc: 0.8251     \n",
      "Epoch 103/150\n",
      "32400/32400 [==============================] - 1s - loss: 0.4498 - acc: 0.8264     \n",
      "Epoch 104/150\n",
      "32400/32400 [==============================] - 1s - loss: 0.4519 - acc: 0.8271     \n",
      "Epoch 105/150\n",
      "32400/32400 [==============================] - 1s - loss: 0.4510 - acc: 0.8253     \n",
      "Epoch 106/150\n",
      "32400/32400 [==============================] - 1s - loss: 0.4560 - acc: 0.8242     \n",
      "Epoch 107/150\n",
      "32400/32400 [==============================] - 1s - loss: 0.4461 - acc: 0.8273     \n",
      "Epoch 108/150\n",
      "32400/32400 [==============================] - 1s - loss: 0.4542 - acc: 0.8248     \n",
      "Epoch 109/150\n",
      "32400/32400 [==============================] - 1s - loss: 0.4537 - acc: 0.8254     \n",
      "Epoch 110/150\n",
      "32400/32400 [==============================] - 1s - loss: 0.4581 - acc: 0.8248     \n",
      "Epoch 111/150\n",
      "32400/32400 [==============================] - 1s - loss: 0.4514 - acc: 0.8265     \n",
      "Epoch 112/150\n",
      "32400/32400 [==============================] - 1s - loss: 0.4497 - acc: 0.8281     \n",
      "Epoch 113/150\n",
      "32400/32400 [==============================] - 1s - loss: 0.4441 - acc: 0.8300     \n",
      "Epoch 114/150\n",
      "32400/32400 [==============================] - 1s - loss: 0.4517 - acc: 0.8274     \n",
      "Epoch 115/150\n",
      "32400/32400 [==============================] - 1s - loss: 0.4503 - acc: 0.8253     \n",
      "Epoch 116/150\n",
      "32400/32400 [==============================] - 1s - loss: 0.4574 - acc: 0.8247     \n",
      "Epoch 117/150\n",
      "32400/32400 [==============================] - 1s - loss: 0.4461 - acc: 0.8301     \n",
      "Epoch 118/150\n",
      "32400/32400 [==============================] - 1s - loss: 0.4490 - acc: 0.8268     \n",
      "Epoch 119/150\n",
      "32400/32400 [==============================] - 1s - loss: 0.4542 - acc: 0.8245     \n",
      "Epoch 120/150\n",
      "32400/32400 [==============================] - 1s - loss: 0.4502 - acc: 0.8259     \n",
      "Epoch 121/150\n",
      "32400/32400 [==============================] - 1s - loss: 0.4553 - acc: 0.8262     \n",
      "Epoch 122/150\n",
      "32400/32400 [==============================] - 1s - loss: 0.4471 - acc: 0.8300     \n",
      "Epoch 123/150\n",
      "32400/32400 [==============================] - 1s - loss: 0.4555 - acc: 0.8251     \n",
      "Epoch 124/150\n",
      "32400/32400 [==============================] - 1s - loss: 0.4476 - acc: 0.8277     \n",
      "Epoch 125/150\n",
      "32400/32400 [==============================] - 1s - loss: 0.4509 - acc: 0.8277     \n",
      "Epoch 126/150\n",
      "32400/32400 [==============================] - 1s - loss: 0.4497 - acc: 0.8271     \n",
      "Epoch 127/150\n",
      "32400/32400 [==============================] - 1s - loss: 0.4495 - acc: 0.8285     \n",
      "Epoch 128/150\n",
      "32400/32400 [==============================] - 1s - loss: 0.4461 - acc: 0.8273     \n",
      "Epoch 129/150\n",
      "32400/32400 [==============================] - 1s - loss: 0.4512 - acc: 0.8274     \n",
      "Epoch 130/150\n",
      "32400/32400 [==============================] - 1s - loss: 0.4516 - acc: 0.8277     \n",
      "Epoch 131/150\n",
      "32400/32400 [==============================] - 2s - loss: 0.4486 - acc: 0.8306     \n",
      "Epoch 132/150\n",
      "32400/32400 [==============================] - 1s - loss: 0.4498 - acc: 0.8292     \n",
      "Epoch 133/150\n",
      "32400/32400 [==============================] - 1s - loss: 0.4455 - acc: 0.8302     \n",
      "Epoch 134/150\n",
      "32400/32400 [==============================] - 1s - loss: 0.4533 - acc: 0.8270     \n",
      "Epoch 135/150\n",
      "32400/32400 [==============================] - 1s - loss: 0.4509 - acc: 0.8253     \n",
      "Epoch 136/150\n",
      "32400/32400 [==============================] - 1s - loss: 0.4435 - acc: 0.8311     \n",
      "Epoch 137/150\n",
      "32400/32400 [==============================] - 1s - loss: 0.4493 - acc: 0.8281     \n",
      "Epoch 138/150\n",
      "32400/32400 [==============================] - 1s - loss: 0.4515 - acc: 0.8269     \n",
      "Epoch 139/150\n",
      "32400/32400 [==============================] - 1s - loss: 0.4486 - acc: 0.8267     \n",
      "Epoch 140/150\n",
      "32400/32400 [==============================] - 1s - loss: 0.4529 - acc: 0.8256     \n",
      "Epoch 141/150\n",
      "32400/32400 [==============================] - 1s - loss: 0.4484 - acc: 0.8286     \n",
      "Epoch 142/150\n",
      "32400/32400 [==============================] - 1s - loss: 0.4514 - acc: 0.8259     \n",
      "Epoch 143/150\n",
      "32400/32400 [==============================] - 1s - loss: 0.4501 - acc: 0.8262     \n",
      "Epoch 144/150\n",
      "32400/32400 [==============================] - 1s - loss: 0.4479 - acc: 0.8284     \n",
      "Epoch 145/150\n",
      "32400/32400 [==============================] - 1s - loss: 0.4506 - acc: 0.8278     \n",
      "Epoch 146/150\n",
      "32400/32400 [==============================] - 1s - loss: 0.4506 - acc: 0.8274     \n",
      "Epoch 147/150\n",
      "32400/32400 [==============================] - 1s - loss: 0.4481 - acc: 0.8279     \n",
      "Epoch 148/150\n",
      "32400/32400 [==============================] - 1s - loss: 0.4484 - acc: 0.8287     \n",
      "Epoch 149/150\n",
      "32400/32400 [==============================] - 1s - loss: 0.4492 - acc: 0.8255     \n",
      "Epoch 150/150\n",
      "32400/32400 [==============================] - 1s - loss: 0.4492 - acc: 0.8269     \n"
     ]
    }
   ],
   "source": [
    "target = to_categorical(train_y)\n",
    "history = model.fit(train_x, target, epochs=150, batch_size=50)"
   ]
  },
  {
   "cell_type": "code",
   "execution_count": 111,
   "metadata": {},
   "outputs": [
    {
     "data": {
      "text/plain": [
       "0.83527777777777779"
      ]
     },
     "execution_count": 111,
     "metadata": {},
     "output_type": "execute_result"
    }
   ],
   "source": [
    "from sklearn.metrics import accuracy_score\n",
    "\n",
    "y_pred = model.predict(cv_x)\n",
    "accuracy_score(cv_y, np.argmax(y_pred, axis = 1).reshape(-1, 1))"
   ]
  },
  {
   "cell_type": "code",
   "execution_count": 113,
   "metadata": {},
   "outputs": [
    {
     "data": {
      "image/png": "[encoded data removed]",
      "text/plain": [
       "<matplotlib.figure.Figure at 0xc0f07e7b38>"
      ]
     },
     "metadata": {},
     "output_type": "display_data"
    }
   ],
   "source": [
    "plt.plot(history.history['acc'])\n",
    "plt.title('train accuracy learning curve')\n",
    "plt.ylabel('accuracy')\n",
    "plt.xlabel('epoch')\n",
    "plt.show()"
   ]
  },
  {
   "cell_type": "markdown",
   "metadata": {},
   "source": [
    "I tried many different variations of this network, with different optimizers and activation functions and number of epochs and so on and chose the one with highest cross validation score, which turned out to be 83.5%\n",
    "\n",
    "Not bad, but let's see what performances can different supervised learning models provided by scikit learn give us \n",
    "\n",
    "#### Logistic Regression"
   ]
  },
  {
   "cell_type": "code",
   "execution_count": 256,
   "metadata": {},
   "outputs": [
    {
     "data": {
      "text/plain": [
       "0.77916666666666667"
      ]
     },
     "execution_count": 256,
     "metadata": {},
     "output_type": "execute_result"
    }
   ],
   "source": [
    "logreg = LogisticRegression()\n",
    "logreg.fit(train_x, train_y)\n",
    "y_pred = logreg.predict(cv_x)\n",
    "accuracy_score(cv_y, y_pred)"
   ]
  },
  {
   "cell_type": "markdown",
   "metadata": {},
   "source": [
    "So Logistic Regression gave us 77.9% accuracy on cross validation set, which is less than what our custom neural net gave us"
   ]
  },
  {
   "cell_type": "markdown",
   "metadata": {},
   "source": [
    "#### SVM with linear kernel"
   ]
  },
  {
   "cell_type": "code",
   "execution_count": 260,
   "metadata": {},
   "outputs": [
    {
     "data": {
      "text/plain": [
       "0.8540740740740741"
      ]
     },
     "execution_count": 260,
     "metadata": {},
     "output_type": "execute_result"
    }
   ],
   "source": [
    "mod = SVC()\n",
    "mod.fit(train_x, train_y)\n",
    "y_pred = mod.predict(cv_x)\n",
    "accuracy_score(cv_y, y_pred)"
   ]
  },
  {
   "cell_type": "markdown",
   "metadata": {},
   "source": [
    "85.4% - better than our custom neural net\n",
    "\n",
    "#### SVM with polynomial kernel"
   ]
  },
  {
   "cell_type": "code",
   "execution_count": 280,
   "metadata": {},
   "outputs": [
    {
     "data": {
      "text/plain": [
       "0.81555555555555559"
      ]
     },
     "execution_count": 280,
     "metadata": {},
     "output_type": "execute_result"
    }
   ],
   "source": [
    "poly_svm = SVC(decision_function_shape='ovo', kernel='poly', degree=3, gamma='auto')\n",
    "poly_svm.fit(train_x, train_y)\n",
    "y_pred = poly_svm.predict(cv_x)\n",
    "accuracy_score(cv_y, y_pred)"
   ]
  },
  {
   "cell_type": "markdown",
   "metadata": {},
   "source": [
    "81.5% - better than logistic regression, but worse than NN\n",
    "\n",
    "#### SVM with linear svc"
   ]
  },
  {
   "cell_type": "code",
   "execution_count": 281,
   "metadata": {},
   "outputs": [
    {
     "data": {
      "text/plain": [
       "0.77240740740740743"
      ]
     },
     "execution_count": 281,
     "metadata": {},
     "output_type": "execute_result"
    }
   ],
   "source": [
    "linear_svc = LinearSVC()\n",
    "linear_svc.fit(train_x, train_y)\n",
    "y_pred = linear_svc.predict(cv_x)\n",
    "accuracy_score(cv_y, y_pred)"
   ]
  },
  {
   "cell_type": "markdown",
   "metadata": {},
   "source": [
    "77.2% - the worst yet\n",
    "\n",
    "#### KNN with k = 5"
   ]
  },
  {
   "cell_type": "code",
   "execution_count": 272,
   "metadata": {},
   "outputs": [
    {
     "data": {
      "text/plain": [
       "0.85777777777777775"
      ]
     },
     "execution_count": 272,
     "metadata": {},
     "output_type": "execute_result"
    }
   ],
   "source": [
    "knn = KNeighborsClassifier(n_neighbors = 5)\n",
    "knn.fit(train_x, train_y)\n",
    "y_pred = knn.predict(cv_x)\n",
    "accuracy_score(cv_y, y_pred)"
   ]
  },
  {
   "cell_type": "markdown",
   "metadata": {},
   "source": [
    "85.7% - the best we've got yet. I tried different number of neighbours (1-10) and 5 gave the best result, so left n_neighbors = 5\n",
    "\n",
    "#### Gaussian Naive Bayes"
   ]
  },
  {
   "cell_type": "code",
   "execution_count": 273,
   "metadata": {},
   "outputs": [
    {
     "data": {
      "text/plain": [
       "0.74398148148148147"
      ]
     },
     "execution_count": 273,
     "metadata": {},
     "output_type": "execute_result"
    }
   ],
   "source": [
    "gaussian = GaussianNB()\n",
    "gaussian.fit(train_x, train_y)\n",
    "y_pred = gaussian.predict(cv_x)\n",
    "accuracy_score(cv_y, y_pred)"
   ]
  },
  {
   "cell_type": "markdown",
   "metadata": {},
   "source": [
    "74.4% - the worst we've got yet, that's because Naive Bayes really is naive, it assumes some independencies that aren't true\n",
    "\n",
    "#### Perceptron"
   ]
  },
  {
   "cell_type": "code",
   "execution_count": 276,
   "metadata": {},
   "outputs": [
    {
     "data": {
      "text/plain": [
       "0.69999999999999996"
      ]
     },
     "execution_count": 276,
     "metadata": {},
     "output_type": "execute_result"
    }
   ],
   "source": [
    "perceptron = Perceptron()\n",
    "perceptron.fit(train_x, train_y)\n",
    "y_pred = perceptron.predict(cv_x)\n",
    "accuracy_score(cv_y, y_pred)"
   ]
  },
  {
   "cell_type": "markdown",
   "metadata": {},
   "source": [
    "70% - even worse than Naive Bayes\n",
    "\n",
    "#### Stochastic Gradient Descent"
   ]
  },
  {
   "cell_type": "code",
   "execution_count": 277,
   "metadata": {},
   "outputs": [
    {
     "data": {
      "text/plain": [
       "0.66138888888888892"
      ]
     },
     "execution_count": 277,
     "metadata": {},
     "output_type": "execute_result"
    }
   ],
   "source": [
    "sgd = SGDClassifier()\n",
    "sgd.fit(train_x, train_y)\n",
    "y_pred = sgd.predict(cv_x)\n",
    "accuracy_score(cv_y, y_pred)"
   ]
  },
  {
   "cell_type": "markdown",
   "metadata": {},
   "source": [
    "66.1% - even worse than Perceptron\n",
    "\n",
    "#### Decision Tree"
   ]
  },
  {
   "cell_type": "code",
   "execution_count": 282,
   "metadata": {},
   "outputs": [
    {
     "data": {
      "text/plain": [
       "0.88907407407407413"
      ]
     },
     "execution_count": 282,
     "metadata": {},
     "output_type": "execute_result"
    }
   ],
   "source": [
    "tree = DecisionTreeClassifier()\n",
    "tree.fit(train_x, train_y)\n",
    "y_pred = tree.predict(cv_x)\n",
    "accuracy_score(cv_y, y_pred)"
   ]
  },
  {
   "cell_type": "markdown",
   "metadata": {},
   "source": [
    "88.9% - the best we've got so far\n",
    "\n",
    "#### Random Forest"
   ]
  },
  {
   "cell_type": "code",
   "execution_count": 120,
   "metadata": {},
   "outputs": [
    {
     "data": {
      "text/plain": [
       "0.91583333333333339"
      ]
     },
     "execution_count": 120,
     "metadata": {},
     "output_type": "execute_result"
    }
   ],
   "source": [
    "forest = RandomForestClassifier(n_estimators=250)\n",
    "forest.fit(train_x, train_y)\n",
    "y_pred = forest.predict(cv_x)\n",
    "accuracy_score(cv_y, y_pred)"
   ]
  },
  {
   "cell_type": "markdown",
   "metadata": {},
   "source": [
    "91.6% on cross validation set is the best that we've seen yet and it's noticeably better than other models gave us, so we must choose this as our model for this dataset\n",
    "\n",
    "It's not a surprise that random forest got the highest performance, because it's a really complex and advanced model, combining number of decision trees (250 in our case) \n",
    "\n",
    "Also, the more the decision trees in random forest, the less the chance of overfitting, that's why I took as many as 250 decision trees\n",
    "\n",
    "#### How will this model perform on unknown data?"
   ]
  },
  {
   "cell_type": "code",
   "execution_count": 124,
   "metadata": {},
   "outputs": [
    {
     "data": {
      "text/plain": [
       "0.91340782122905029"
      ]
     },
     "execution_count": 124,
     "metadata": {},
     "output_type": "execute_result"
    }
   ],
   "source": [
    "y_pred = forest.predict(test_x)\n",
    "accuracy_score(test_y, y_pred)"
   ]
  },
  {
   "cell_type": "markdown",
   "metadata": {},
   "source": [
    "We can assume that on unknown data this model will predict correctly on 91.3% of samples, which is pretty high performance, considering label can take 5 different values "
   ]
  }
 ],
 "metadata": {
  "kernelspec": {
   "display_name": "Python 3",
   "language": "python",
   "name": "python3"
  },
  "language_info": {
   "codemirror_mode": {
    "name": "ipython",
    "version": 3
   },
   "file_extension": ".py",
   "mimetype": "text/x-python",
   "name": "python",
   "nbconvert_exporter": "python",
   "pygments_lexer": "ipython3",
   "version": "3.6.1"
  }
 },
 "nbformat": 4,
 "nbformat_minor": 2
}
