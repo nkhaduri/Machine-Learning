{
 "cells": [
  {
   "cell_type": "code",
   "execution_count": 1,
   "metadata": {},
   "outputs": [
    {
     "name": "stderr",
     "output_type": "stream",
     "text": [
      "Using TensorFlow backend.\n"
     ]
    }
   ],
   "source": [
    "%matplotlib inline\n",
    "\n",
    "import math\n",
    "import numpy as np\n",
    "import matplotlib.pyplot as plt\n",
    "import pandas as pd\n",
    "\n",
    "np.random.seed(1)\n",
    "\n",
    "import keras\n",
    "from keras.layers import Dense, Dropout, Activation, Flatten\n",
    "from keras.models import Sequential\n",
    "from keras.layers import Convolution2D, MaxPooling2D, AveragePooling2D\n",
    "from keras.utils import to_categorical\n",
    "from sklearn.model_selection import train_test_split"
   ]
  },
  {
   "cell_type": "code",
   "execution_count": 4,
   "metadata": {},
   "outputs": [],
   "source": [
    "train = pd.read_csv(\"fashion-mnist_train_small.csv\")\n",
    "test = pd.read_csv(\"fashion-mnist_test_small.csv\")"
   ]
  },
  {
   "cell_type": "code",
   "execution_count": 6,
   "metadata": {},
   "outputs": [
    {
     "name": "stdout",
     "output_type": "stream",
     "text": [
      "(12000, 784)\n"
     ]
    }
   ],
   "source": [
    "train_np = train.as_matrix()\n",
    "train_y = train_np[:,0]\n",
    "train_x = train_np[:, 1:]"
   ]
  },
  {
   "cell_type": "code",
   "execution_count": 30,
   "metadata": {
    "collapsed": true
   },
   "outputs": [],
   "source": [
    "test_np = test.as_matrix()\n",
    "test_y = test_np[:, 0]\n",
    "test_x = test_np[:, 1:]"
   ]
  },
  {
   "cell_type": "code",
   "execution_count": 31,
   "metadata": {
    "collapsed": true
   },
   "outputs": [],
   "source": [
    "train_x = train_x.reshape(train_x.shape[0], 28, 28, 1)\n",
    "test_x = test_x.reshape(test_x.shape[0], 28, 28, 1)"
   ]
  },
  {
   "cell_type": "code",
   "execution_count": 32,
   "metadata": {
    "collapsed": true
   },
   "outputs": [],
   "source": [
    "train_y = to_categorical(train_y)\n",
    "test_y = to_categorical(test_y)"
   ]
  },
  {
   "cell_type": "code",
   "execution_count": 33,
   "metadata": {
    "collapsed": true
   },
   "outputs": [],
   "source": [
    "model = Sequential()\n",
    " \n",
    "model.add(Convolution2D(12, (3, 3), activation='sigmoid', kernel_initializer='glorot_uniform', use_bias=True,\n",
    "                        kernel_regularizer=keras.regularizers.l2(0.001), data_format='channels_last', input_shape=(28,28,1)))\n",
    "model.add(Convolution2D(10, (3, 3), activation='relu', kernel_initializer='glorot_uniform', use_bias=True,\n",
    "                        kernel_regularizer=keras.regularizers.l2(0.001)))\n",
    "model.add(AveragePooling2D(pool_size=(2,2)))\n",
    "model.add(Flatten())\n",
    "model.add(Dense(100, activation='relu', kernel_initializer='glorot_uniform', use_bias=True, \n",
    "                kernel_regularizer=keras.regularizers.l2(0.001)))\n",
    "model.add(Dense(10, activation='sigmoid'))"
   ]
  },
  {
   "cell_type": "code",
   "execution_count": 34,
   "metadata": {
    "collapsed": true
   },
   "outputs": [],
   "source": [
    "model.compile(loss='categorical_crossentropy', optimizer='adagrad', metrics=['accuracy'])"
   ]
  },
  {
   "cell_type": "code",
   "execution_count": 35,
   "metadata": {},
   "outputs": [
    {
     "name": "stdout",
     "output_type": "stream",
     "text": [
      "Epoch 1/13\n",
      "12000/12000 [==============================] - 26s - loss: 0.7266 - acc: 0.7731    \n",
      "Epoch 2/13\n",
      "12000/12000 [==============================] - 21s - loss: 0.4895 - acc: 0.8565    \n",
      "Epoch 3/13\n",
      "12000/12000 [==============================] - 22s - loss: 0.4385 - acc: 0.8742    - ETA: 0s - loss: 0.4390 - acc\n",
      "Epoch 4/13\n",
      "12000/12000 [==============================] - 23s - loss: 0.4095 - acc: 0.8823    \n",
      "Epoch 5/13\n",
      "12000/12000 [==============================] - 22s - loss: 0.3857 - acc: 0.8917    \n",
      "Epoch 6/13\n",
      "12000/12000 [==============================] - 23s - loss: 0.3686 - acc: 0.8996    \n",
      "Epoch 7/13\n",
      "12000/12000 [==============================] - 22s - loss: 0.3547 - acc: 0.9017    \n",
      "Epoch 8/13\n",
      "12000/12000 [==============================] - 22s - loss: 0.3414 - acc: 0.9085    \n",
      "Epoch 9/13\n",
      "12000/12000 [==============================] - 22s - loss: 0.3321 - acc: 0.9128    \n",
      "Epoch 10/13\n",
      "12000/12000 [==============================] - 22s - loss: 0.3226 - acc: 0.9160    \n",
      "Epoch 11/13\n",
      "12000/12000 [==============================] - 22s - loss: 0.3150 - acc: 0.9183    \n",
      "Epoch 12/13\n",
      "12000/12000 [==============================] - 22s - loss: 0.3079 - acc: 0.9217    \n",
      "Epoch 13/13\n",
      "12000/12000 [==============================] - 19s - loss: 0.2997 - acc: 0.9229    \n"
     ]
    }
   ],
   "source": [
    "history = model.fit(train_x, train_y, batch_size=40, epochs=13, verbose=1)"
   ]
  },
  {
   "cell_type": "code",
   "execution_count": 36,
   "metadata": {},
   "outputs": [
    {
     "name": "stdout",
     "output_type": "stream",
     "text": [
      "[0.38858131488164266, 0.88933333349227905]\n",
      "[0.29070351751645407, 0.92874999999999996]\n"
     ]
    }
   ],
   "source": [
    "score = model.evaluate(test_x, test_y, verbose=0)\n",
    "score1 = model.evaluate(train_x, train_y, verbose=0)\n",
    "print (score)\n",
    "print(score1)"
   ]
  },
  {
   "cell_type": "code",
   "execution_count": 40,
   "metadata": {},
   "outputs": [
    {
     "data": {
      "image/png": "[encoded data removed]",
      "text/plain": [
       "<matplotlib.figure.Figure at 0x3c84f7ae10>"
      ]
     },
     "metadata": {},
     "output_type": "display_data"
    }
   ],
   "source": [
    "plt.plot(history.history['acc'])\n",
    "plt.title('model accuracy')\n",
    "plt.ylabel('accuracy')\n",
    "plt.xlabel('epoch')\n",
    "plt.legend(['train'], loc='upper left')\n",
    "plt.show()"
   ]
  },
  {
   "cell_type": "code",
   "execution_count": 41,
   "metadata": {
    "collapsed": true
   },
   "outputs": [],
   "source": [
    "model_json = model.to_json()\n",
    "with open(\"model.json\", \"w\") as json_file:\n",
    "    json_file.write(model_json)\n",
    "# serialize weights to HDF5\n",
    "model.save_weights(\"model.h5\")"
   ]
  },
  {
   "cell_type": "code",
   "execution_count": 1,
   "metadata": {},
   "outputs": [
    {
     "name": "stderr",
     "output_type": "stream",
     "text": [
      "Using TensorFlow backend.\n"
     ]
    }
   ],
   "source": [
    "import numpy as np\n",
    "import pandas as pd\n",
    "import keras\n",
    "\n",
    "from keras.layers import Dense, Dropout, Activation, Flatten\n",
    "from keras.models import Sequential\n",
    "from keras.layers import Convolution2D, MaxPooling2D, AveragePooling2D\n",
    "from keras.utils import to_categorical\n",
    "from keras.models import model_from_json\n",
    "def predictForNewData(file_name=\"fashion-mnist_test_small.csv\"):\n",
    "    new_data = pd.read_csv(file_name)\n",
    "    new_data_np = new_data.as_matrix()\n",
    "    new_data_y = new_data_np[:, 0]\n",
    "    new_data_x = new_data_np[:, 1:]\n",
    "    \n",
    "    new_data_x = new_data_x.reshape(new_data_x.shape[0], 28, 28, 1)\n",
    "    new_data_y = to_categorical(new_data_y)\n",
    "    \n",
    "    json_file = open('model.json', 'r')\n",
    "    loaded_model_json = json_file.read()\n",
    "    json_file.close()\n",
    "    loaded_model = model_from_json(loaded_model_json)\n",
    "    # load weights into new model\n",
    "    loaded_model.load_weights(\"model.h5\")\n",
    "    \n",
    "    loaded_model.compile(loss='categorical_crossentropy', optimizer='adagrad', metrics=['accuracy'])\n",
    "    score = loaded_model.evaluate(new_data_x, new_data_y, verbose=0)\n",
    "    print(\"%s: %.2f%%\" % (loaded_model.metrics_names[1], score[1]*100))  "
   ]
  },
  {
   "cell_type": "code",
   "execution_count": 2,
   "metadata": {},
   "outputs": [
    {
     "name": "stdout",
     "output_type": "stream",
     "text": [
      "acc: 88.93%\n"
     ]
    }
   ],
   "source": [
    "predictForNewData()"
   ]
  },
  {
   "cell_type": "code",
   "execution_count": null,
   "metadata": {
    "collapsed": true
   },
   "outputs": [],
   "source": []
  }
 ],
 "metadata": {
  "kernelspec": {
   "display_name": "Python 3",
   "language": "python",
   "name": "python3"
  },
  "language_info": {
   "codemirror_mode": {
    "name": "ipython",
    "version": 3
   },
   "file_extension": ".py",
   "mimetype": "text/x-python",
   "name": "python",
   "nbconvert_exporter": "python",
   "pygments_lexer": "ipython3",
   "version": "3.6.1"
  }
 },
 "nbformat": 4,
 "nbformat_minor": 2
}
