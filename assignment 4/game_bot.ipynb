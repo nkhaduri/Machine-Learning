{
 "cells": [
  {
   "cell_type": "code",
   "execution_count": 1,
   "metadata": {},
   "outputs": [
    {
     "name": "stderr",
     "output_type": "stream",
     "text": [
      "Using TensorFlow backend.\n"
     ]
    }
   ],
   "source": [
    "import math\n",
    "import numpy as np\n",
    "import pandas as pd\n",
    "\n",
    "np.random.seed(1)\n",
    "\n",
    "import keras\n",
    "from keras.layers import Dense, Dropout, Activation, Flatten\n",
    "from keras.models import Sequential\n",
    "from keras.layers import Convolution2D, MaxPooling2D, AveragePooling2D\n",
    "from keras.utils import to_categorical\n",
    "\n",
    "import gym"
   ]
  },
  {
   "cell_type": "code",
   "execution_count": 2,
   "metadata": {},
   "outputs": [
    {
     "name": "stderr",
     "output_type": "stream",
     "text": [
      "[2018-02-10 00:50:49,396] Making new env: Phoenix-v0\n"
     ]
    }
   ],
   "source": [
    "env = gym.make('Phoenix-v0')"
   ]
  },
  {
   "cell_type": "code",
   "execution_count": 3,
   "metadata": {},
   "outputs": [
    {
     "name": "stdout",
     "output_type": "stream",
     "text": [
      "['NOOP', 'FIRE', 'RIGHT', 'LEFT', 'DOWN', 'RIGHTFIRE', 'LEFTFIRE', 'DOWNFIRE']\n"
     ]
    }
   ],
   "source": [
    "print (env.unwrapped.get_action_meanings())"
   ]
  },
  {
   "cell_type": "code",
   "execution_count": 4,
   "metadata": {
    "collapsed": true
   },
   "outputs": [],
   "source": [
    "def preprocess_observation(obs):\n",
    "    img = obs[:]\n",
    "    img = img[30:180:2, ::2]\n",
    "    img = np.sum(img, axis=2)\n",
    "    img[img > 0] = 1.\n",
    "    img[img != 1.] = 2.\n",
    "    img[img == 1.] = 0.\n",
    "    img[img == 2.] = 1.\n",
    "    return img.reshape(75, 80,1)"
   ]
  },
  {
   "cell_type": "code",
   "execution_count": 5,
   "metadata": {
    "collapsed": true
   },
   "outputs": [],
   "source": [
    "def discount_rewards(rewards, discount_rate):\n",
    "    discounted_rewards = np.zeros(len(rewards))\n",
    "    cumulative_rewards = 0\n",
    "    for step in reversed(range(len(rewards))):\n",
    "        cumulative_rewards = rewards[step] + cumulative_rewards * discount_rate\n",
    "        discounted_rewards[step] = cumulative_rewards\n",
    "    std = np.std(discounted_rewards)\n",
    "    discounted_rewards -= np.mean(discounted_rewards)\n",
    "    if std != 0:\n",
    "        discounted_rewards /= std\n",
    "    return discounted_rewards"
   ]
  },
  {
   "cell_type": "code",
   "execution_count": 14,
   "metadata": {
    "collapsed": true
   },
   "outputs": [],
   "source": [
    "model = Sequential()\n",
    " \n",
    "model.add(Convolution2D(8, (3, 3), activation='sigmoid', kernel_initializer='glorot_uniform', use_bias=True,\n",
    "                        kernel_regularizer=keras.regularizers.l2(0.001), data_format='channels_last', input_shape=(75,80,1)))\n",
    "model.add(Convolution2D(8, (3, 3), activation='relu', kernel_initializer='glorot_uniform', use_bias=True,\n",
    "                        kernel_regularizer=keras.regularizers.l2(0.001)))\n",
    "model.add(Flatten())\n",
    "model.add(Dense(10, activation='relu', kernel_initializer='glorot_uniform', use_bias=True, \n",
    "                kernel_regularizer=keras.regularizers.l2(0.001)))\n",
    "model.add(Dense(4, activation='softmax'))"
   ]
  },
  {
   "cell_type": "code",
   "execution_count": 15,
   "metadata": {
    "collapsed": true
   },
   "outputs": [],
   "source": [
    "model.compile(loss='categorical_crossentropy', optimizer=keras.optimizers.adagrad(lr=1e-3), metrics=['accuracy'])"
   ]
  },
  {
   "cell_type": "code",
   "execution_count": 16,
   "metadata": {
    "collapsed": true
   },
   "outputs": [],
   "source": [
    "model_json = model.to_json()\n",
    "with open(\"model.json\", \"w\") as json_file:\n",
    "    json_file.write(model_json)"
   ]
  },
  {
   "cell_type": "code",
   "execution_count": null,
   "metadata": {},
   "outputs": [],
   "source": [
    "model.load_weights(\"model.h5\")"
   ]
  },
  {
   "cell_type": "code",
   "execution_count": null,
   "metadata": {},
   "outputs": [
    {
     "name": "stdout",
     "output_type": "stream",
     "text": [
      "380.0\n",
      "f 1718\n"
     ]
    }
   ],
   "source": [
    "batch_size = 100\n",
    "iters = 0\n",
    "k = 0\n",
    "discount_rate = 0.8\n",
    "possible_actions = np.array([0, 1, 2, 3])\n",
    "rewards = []\n",
    "actions = []\n",
    "frames = []\n",
    "\n",
    "while True:\n",
    "    observation = env.reset()\n",
    "    r = 0\n",
    "    while True:\n",
    "        \"\"\"if iters == batch_size:\n",
    "            iters = 0\n",
    "            k += 1\n",
    "            discounted = discount_rewards(rewards, discount_rate)\n",
    "            actions = actions * discounted.reshape(-1, 1)\n",
    "            model.train_on_batch(np.array(frames), np.array(actions))\n",
    "            rewards = []\n",
    "            actions = []\n",
    "            frames = []\n",
    "            if k % 20 == 0:\n",
    "                # serialize weights to HDF5\n",
    "                model.save_weights(\"model.h5\", overwrite=True)\"\"\"\n",
    "        #iters += 1\n",
    "        img = preprocess_observation(observation)\n",
    "        frames.append(img)\n",
    "        img = np.expand_dims(img, axis=0)\n",
    "        probs = model.predict(img).ravel()\n",
    "        probs = probs / np.sum(probs)\n",
    "        action = np.random.choice(4, p = probs)\n",
    "        actions.append(probs)\n",
    "        observation, reward, done, info = env.step(action)\n",
    "        rewards.append(reward)\n",
    "        r += reward\n",
    "        if done:\n",
    "            break;\n",
    "    \n",
    "    print(r)\n",
    "    k += 1\n",
    "    print(\"f\", len(frames))\n",
    "    if len(frames) > 5000:\n",
    "        continue\n",
    "    discounted = discount_rewards(rewards, discount_rate)\n",
    "    actions = actions * discounted.reshape(-1, 1)\n",
    "    model.train_on_batch(np.array(frames), np.array(actions))\n",
    "    rewards = []\n",
    "    actions = []\n",
    "    frames = []\n",
    "    if k % 20 == 0:\n",
    "        # serialize weights to HDF5\n",
    "        model.save_weights(\"model.h5\", overwrite=True)\n",
    "    \"\"\"iters += 1;\n",
    "    if iters % batch_size == 0:\n",
    "        discounted = discount_rewards(rewards, discount_rate)\n",
    "        actions = actions * discounted.reshape(-1, 1)\n",
    "        model.train_on_batch(np.array(frames), np.array(actions))\n",
    "        rewards = []\n",
    "        actions = []\n",
    "        frames = []\"\"\""
   ]
  },
  {
   "cell_type": "code",
   "execution_count": 23,
   "metadata": {
    "collapsed": true
   },
   "outputs": [],
   "source": [
    "observation = env.reset()\n",
    "while True:\n",
    "    env.render()\n",
    "    img = preprocess_observation(observation)\n",
    "    img = np.expand_dims(img, axis=0)\n",
    "    probs = model.predict(img).ravel()\n",
    "    probs = probs / np.sum(probs)\n",
    "    action = np.random.choice(4, p = probs)\n",
    "    observation, reward, done, info = env.step(action)\n",
    "    if done:\n",
    "        env.render(close=True)\n",
    "        break;"
   ]
  },
  {
   "cell_type": "code",
   "execution_count": null,
   "metadata": {
    "collapsed": true
   },
   "outputs": [],
   "source": []
  }
 ],
 "metadata": {
  "kernelspec": {
   "display_name": "Python 3",
   "language": "python",
   "name": "python3"
  },
  "language_info": {
   "codemirror_mode": {
    "name": "ipython",
    "version": 3
   },
   "file_extension": ".py",
   "mimetype": "text/x-python",
   "name": "python",
   "nbconvert_exporter": "python",
   "pygments_lexer": "ipython3",
   "version": "3.6.1"
  }
 },
 "nbformat": 4,
 "nbformat_minor": 2
}
